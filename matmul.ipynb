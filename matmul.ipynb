{
 "cells": [
  {
   "cell_type": "code",
   "execution_count": 56,
   "id": "824c888e",
   "metadata": {},
   "outputs": [
    {
     "name": "stdout",
     "output_type": "stream",
     "text": [
      "[ 0.70710678  0.          0.         -0.70710678]\n",
      "[0.70710678 0.         0.         0.70710678]\n"
     ]
    }
   ],
   "source": [
    "import numpy as np\n",
    "from numpy import linalg as la\n",
    "from math import *\n",
    "\n",
    "# Encodes a quantum state: vector of amplitudes of |00>,|01>,|10> and |11>\n",
    "q = np.array([0,0,1,0])\n",
    "\n",
    "# CNOT = CX: only if the first bit is 1, the second is inverted\n",
    "CX = np.array([[1,0,0,0],[0,1,0,0],[0,0,0,1],[0,0,1,0]])\n",
    "\n",
    "CZ = np.array([[1,0,0,0],[0,1,0,0],[0,0,1,0],[0,0,0,-1]])\n",
    "\n",
    "# Hadamard\n",
    "H = 1/sqrt(2)*np.array([[1,0,1,0],[0,1,0,1],[1,0,-1,0],[0,1,0,-1]])\n",
    "\n",
    "result = np.matmul(CX,np.matmul(H,q))\n",
    "result2 = np.matmul(CZ,result)\n",
    "\n",
    "print(result)\n",
    "print(result2)"
   ]
  },
  {
   "cell_type": "code",
   "execution_count": null,
   "id": "daeb2e80",
   "metadata": {},
   "outputs": [],
   "source": []
  }
 ],
 "metadata": {
  "kernelspec": {
   "display_name": "Python 3 (ipykernel)",
   "language": "python",
   "name": "python3"
  },
  "language_info": {
   "codemirror_mode": {
    "name": "ipython",
    "version": 3
   },
   "file_extension": ".py",
   "mimetype": "text/x-python",
   "name": "python",
   "nbconvert_exporter": "python",
   "pygments_lexer": "ipython3",
   "version": "3.10.6"
  }
 },
 "nbformat": 4,
 "nbformat_minor": 5
}
