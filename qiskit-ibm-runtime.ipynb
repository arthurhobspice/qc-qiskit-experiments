{
 "cells": [
  {
   "cell_type": "markdown",
   "id": "d86f8c67",
   "metadata": {},
   "source": [
    "# Very simple interaction with IBM Quantum\n",
    "\n",
    "## Define the quantum circuit"
   ]
  },
  {
   "cell_type": "code",
   "execution_count": 19,
   "id": "39152302-94c1-496f-ad44-9390561cbf73",
   "metadata": {},
   "outputs": [
    {
     "data": {
      "text/html": [
       "<pre style=\"word-wrap: normal;white-space: pre;background: #fff0;line-height: 1.1;font-family: &quot;Courier New&quot;,Courier,monospace\">     ┌───┐   ┌─┐\n",
       "q_0: ┤ H ├───┤M├\n",
       "     └┬─┬┘   └╥┘\n",
       "q_1: ─┤M├─────╫─\n",
       "      └╥┘ ┌─┐ ║ \n",
       "q_2: ──╫──┤M├─╫─\n",
       "       ║  └╥┘ ║ \n",
       "c: 3/══╩═══╩══╩═\n",
       "       1   2  0 </pre>"
      ],
      "text/plain": [
       "     ┌───┐   ┌─┐\n",
       "q_0: ┤ H ├───┤M├\n",
       "     └┬─┬┘   └╥┘\n",
       "q_1: ─┤M├─────╫─\n",
       "      └╥┘ ┌─┐ ║ \n",
       "q_2: ──╫──┤M├─╫─\n",
       "       ║  └╥┘ ║ \n",
       "c: 3/══╩═══╩══╩═\n",
       "       1   2  0 "
      ]
     },
     "execution_count": 19,
     "metadata": {},
     "output_type": "execute_result"
    }
   ],
   "source": [
    "from qiskit import QuantumCircuit\n",
    "\n",
    "qc = QuantumCircuit(3, 3)\n",
    "qc.h(0)\n",
    "\n",
    "qc.measure([0,1,2], [0,1,2])\n",
    "qc.draw()"
   ]
  },
  {
   "cell_type": "markdown",
   "id": "e91657a3",
   "metadata": {},
   "source": [
    "Hadamard gate $\\mathbf{H}$ (method h) transforms qubit $|0\\rangle$ into superposition\n",
    "\n",
    "$$\\mathbf{H}|0\\rangle = \\frac{1}{\\sqrt{2}}|0\\rangle + \\frac{1}{\\sqrt{2}}|1\\rangle$$\n",
    "\n",
    "## Test the circuit on local simulator"
   ]
  },
  {
   "cell_type": "code",
   "execution_count": 20,
   "id": "df7c13b1",
   "metadata": {
    "scrolled": true
   },
   "outputs": [
    {
     "data": {
      "text/plain": [
       "{'001': 525, '000': 499}"
      ]
     },
     "execution_count": 20,
     "metadata": {},
     "output_type": "execute_result"
    }
   ],
   "source": [
    "from qiskit.providers.aer import AerSimulator\n",
    "sim = AerSimulator()  # make new simulator object\n",
    "job = sim.run(qc)      # run the experiment\n",
    "result = job.result()  # get the results\n",
    "result.get_counts()    # interpret the results as a \"counts\" dictionary"
   ]
  },
  {
   "cell_type": "code",
   "execution_count": 21,
   "id": "52cdd19e",
   "metadata": {},
   "outputs": [
    {
     "data": {
      "image/png": "[encoded data removed]",
      "text/plain": [
       "<Figure size 700x500 with 1 Axes>"
      ]
     },
     "execution_count": 21,
     "metadata": {},
     "output_type": "execute_result"
    }
   ],
   "source": [
    "from qiskit.visualization import plot_histogram\n",
    "plot_histogram(result.get_counts())"
   ]
  },
  {
   "cell_type": "markdown",
   "id": "944423ff",
   "metadata": {},
   "source": [
    "## Run on real hardware"
   ]
  },
  {
   "cell_type": "code",
   "execution_count": 14,
   "id": "883f6724-436b-4e8f-9cfc-2201ea999032",
   "metadata": {},
   "outputs": [],
   "source": [
    "# Get the API token in https://quantum-computing.ibm.com/\n",
    "#QiskitRuntimeService.save_account(channel=\"ibm_quantum\", token=\"TOKEN\")\n",
    "\n",
    "from qiskit_ibm_runtime import QiskitRuntimeService, Sampler, Options\n",
    "\n",
    "service = QiskitRuntimeService()"
   ]
  },
  {
   "cell_type": "markdown",
   "id": "00a7b9da",
   "metadata": {},
   "source": [
    "Least busy backend:"
   ]
  },
  {
   "cell_type": "code",
   "execution_count": null,
   "id": "9e1200a7",
   "metadata": {},
   "outputs": [],
   "source": [
    "backend = service.least_busy()\n",
    "print(backend.name)\n",
    "print(backend.num_qubits)\n",
    "print(backend.simulator)\n",
    "print(backend.backend_version)"
   ]
  },
  {
   "cell_type": "markdown",
   "id": "cf9129af-ba76-4746-abbe-eaf78f080aae",
   "metadata": {},
   "source": [
    "save_account stores the API token to disk, hence it must be done only once after rotating the token. See https://github.com/Qiskit/qiskit-ibmq-provider for more details.\n",
    "\n",
    "Available backends:"
   ]
  },
  {
   "cell_type": "code",
   "execution_count": 5,
   "id": "cf20a529",
   "metadata": {},
   "outputs": [
    {
     "data": {
      "text/plain": [
       "[<IBMBackend('ibmq_qasm_simulator')>,\n",
       " <IBMBackend('ibmq_lima')>,\n",
       " <IBMBackend('ibmq_belem')>,\n",
       " <IBMBackend('ibmq_quito')>,\n",
       " <IBMBackend('simulator_statevector')>,\n",
       " <IBMBackend('simulator_mps')>,\n",
       " <IBMBackend('simulator_extended_stabilizer')>,\n",
       " <IBMBackend('simulator_stabilizer')>,\n",
       " <IBMBackend('ibmq_jakarta')>,\n",
       " <IBMBackend('ibmq_manila')>,\n",
       " <IBMBackend('ibm_lagos')>,\n",
       " <IBMBackend('ibm_nairobi')>,\n",
       " <IBMBackend('ibm_perth')>,\n",
       " <IBMBackend('ibm_oslo')>]"
      ]
     },
     "execution_count": 5,
     "metadata": {},
     "output_type": "execute_result"
    }
   ],
   "source": [
    "service.backends()"
   ]
  },
  {
   "cell_type": "markdown",
   "id": "d8057af5",
   "metadata": {},
   "source": [
    "[Simulators overview](https://quantum-computing.ibm.com/lab/docs/iql/manage/simulator)\n",
    "\n",
    "[Documentation of QiskitRuntimeService](https://qiskit.org/documentation/partners/qiskit_ibm_runtime/stubs/qiskit_ibm_runtime.QiskitRuntimeService.html)\n",
    "\n",
    "Start a job with the quantum circuit:"
   ]
  },
  {
   "cell_type": "code",
   "execution_count": 15,
   "id": "e9f95c4d",
   "metadata": {},
   "outputs": [
    {
     "name": "stdout",
     "output_type": "stream",
     "text": [
      ">>> Job ID: cge1sq7knnn31q8iu5k0\n"
     ]
    }
   ],
   "source": [
    "backend = service.backend(\"ibmq_qasm_simulator\")\n",
    "options = Options()\n",
    "options.execution.shots = 2048\n",
    "sampler = Sampler(session=backend, options=options)\n",
    "job = sampler.run(qc)\n",
    "print(f\">>> Job ID: {job.job_id()}\")"
   ]
  },
  {
   "cell_type": "markdown",
   "id": "2bc16fa6",
   "metadata": {},
   "source": [
    "Check the status of the running job:"
   ]
  },
  {
   "cell_type": "code",
   "execution_count": 16,
   "id": "96c9b475",
   "metadata": {},
   "outputs": [
    {
     "name": "stdout",
     "output_type": "stream",
     "text": [
      ">>> Job Status: JobStatus.DONE\n"
     ]
    }
   ],
   "source": [
    "print(f\">>> Job Status: {job.status()}\")"
   ]
  },
  {
   "cell_type": "code",
   "execution_count": 17,
   "id": "b44bccd7-6c8e-4392-b80c-64197f971846",
   "metadata": {},
   "outputs": [
    {
     "name": "stdout",
     "output_type": "stream",
     "text": [
      "SamplerResult(quasi_dists=[{2: 0.1318359375, 4: 0.115234375, 6: 0.13037109375, 5: 0.125, 1: 0.1279296875, 3: 0.125, 0: 0.12744140625, 7: 0.1171875}], metadata=[{'header_metadata': {}, 'shots': 2048}])\n"
     ]
    }
   ],
   "source": [
    "result = job.result()\n",
    "print(result)"
   ]
  },
  {
   "cell_type": "code",
   "execution_count": 18,
   "id": "c8fb2dad-73c7-4387-bcac-3245d645aa3c",
   "metadata": {},
   "outputs": [
    {
     "data": {
      "image/png": "[encoded data removed]",
      "text/plain": [
       "<Figure size 700x500 with 1 Axes>"
      ]
     },
     "execution_count": 18,
     "metadata": {},
     "output_type": "execute_result"
    }
   ],
   "source": [
    "plot_histogram(result.quasi_dists)"
   ]
  }
 ],
 "metadata": {
  "kernelspec": {
   "display_name": "Python 3 (ipykernel)",
   "language": "python",
   "name": "python3"
  },
  "language_info": {
   "codemirror_mode": {
    "name": "ipython",
    "version": 3
   },
   "file_extension": ".py",
   "mimetype": "text/x-python",
   "name": "python",
   "nbconvert_exporter": "python",
   "pygments_lexer": "ipython3",
   "version": "3.11.2"
  }
 },
 "nbformat": 4,
 "nbformat_minor": 5
}
