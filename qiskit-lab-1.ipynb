{
 "cells": [
  {
   "cell_type": "code",
   "execution_count": 1,
   "id": "6e28e441",
   "metadata": {},
   "outputs": [],
   "source": [
    "from qiskit import *\n",
    "from qiskit.visualization import plot_histogram\n",
    "import numpy as np"
   ]
  },
  {
   "cell_type": "markdown",
   "id": "7f8410e3",
   "metadata": {},
   "source": [
    "# Classical logic gates with quantum circuits\n",
    "\n",
    "We define functions which take one or two \"binary strings\" ('0' or '1') as input and return the result of the logical operation.\n",
    "\n",
    "## The NOT gate"
   ]
  },
  {
   "cell_type": "code",
   "execution_count": 2,
   "id": "007fd7aa",
   "metadata": {},
   "outputs": [],
   "source": [
    "def NOT(inp):\n",
    "    \"\"\"A NOT gate.\n",
    "    \n",
    "    Parameters:\n",
    "        inp (str): Input, encoded in qubit 0.\n",
    "        \n",
    "    Returns:\n",
    "        QuantumCircuit: Output NOT circuit.\n",
    "        str: Output value measured from qubit 0.\n",
    "    \"\"\"\n",
    "\n",
    "    qc = QuantumCircuit(1, 1) # A quantum circuit with a single qubit and a single classical bit\n",
    "    qc.reset(0)\n",
    "    \n",
    "    # We encode '0' as the qubit state |0⟩, and '1' as |1⟩\n",
    "    # Since the qubit is initially |0⟩, we don't need to do anything for an input of '0'\n",
    "    # For an input of '1', we do an x to rotate the |0⟩ to |1⟩\n",
    "    if inp=='1':\n",
    "        qc.x(0)\n",
    "        \n",
    "    # barrier between input state and gate operation \n",
    "    qc.barrier()\n",
    "    \n",
    "    # Now we've encoded the input, we can do a NOT on it using x\n",
    "    qc.x(0)\n",
    "    \n",
    "    #barrier between gate operation and measurement\n",
    "    qc.barrier()\n",
    "    \n",
    "    # Finally, we extract the |0⟩/|1⟩ output of the qubit and encode it in the bit c[0]\n",
    "    qc.measure(0,0)\n",
    "    qc.draw()\n",
    "    \n",
    "    # We'll run the program on a simulator\n",
    "    backend = Aer.get_backend('aer_simulator')\n",
    "    # Since the output will be deterministic, we can use just a single shot to get it\n",
    "    job = backend.run(qc, shots=1, memory=True)\n",
    "    output = job.result().get_memory()[0]\n",
    "    \n",
    "    return qc, output"
   ]
  },
  {
   "cell_type": "code",
   "execution_count": 3,
   "id": "69689051",
   "metadata": {},
   "outputs": [
    {
     "name": "stdout",
     "output_type": "stream",
     "text": [
      "NOT with input 0 gives output 1\n"
     ]
    },
    {
     "data": {
      "text/html": [
       "<pre style=\"word-wrap: normal;white-space: pre;background: #fff0;line-height: 1.1;font-family: &quot;Courier New&quot;,Courier,monospace\">           ░ ┌───┐ ░ ┌─┐\n",
       "  q: ─|0>──░─┤ X ├─░─┤M├\n",
       "           ░ └───┘ ░ └╥┘\n",
       "c: 1/═════════════════╩═\n",
       "                      0 </pre>"
      ],
      "text/plain": [
       "           ░ ┌───┐ ░ ┌─┐\n",
       "  q: ─|0>──░─┤ X ├─░─┤M├\n",
       "           ░ └───┘ ░ └╥┘\n",
       "c: 1/═════════════════╩═\n",
       "                      0 "
      ]
     },
     "metadata": {},
     "output_type": "display_data"
    },
    {
     "name": "stdout",
     "output_type": "stream",
     "text": [
      "\n",
      "\n",
      "NOT with input 1 gives output 0\n"
     ]
    },
    {
     "data": {
      "text/html": [
       "<pre style=\"word-wrap: normal;white-space: pre;background: #fff0;line-height: 1.1;font-family: &quot;Courier New&quot;,Courier,monospace\">          ┌───┐ ░ ┌───┐ ░ ┌─┐\n",
       "  q: ─|0>─┤ X ├─░─┤ X ├─░─┤M├\n",
       "          └───┘ ░ └───┘ ░ └╥┘\n",
       "c: 1/══════════════════════╩═\n",
       "                           0 </pre>"
      ],
      "text/plain": [
       "          ┌───┐ ░ ┌───┐ ░ ┌─┐\n",
       "  q: ─|0>─┤ X ├─░─┤ X ├─░─┤M├\n",
       "          └───┘ ░ └───┘ ░ └╥┘\n",
       "c: 1/══════════════════════╩═\n",
       "                           0 "
      ]
     },
     "metadata": {},
     "output_type": "display_data"
    },
    {
     "name": "stdout",
     "output_type": "stream",
     "text": [
      "\n",
      "\n"
     ]
    }
   ],
   "source": [
    "## Test the function\n",
    "for inp in ['0', '1']:\n",
    "    qc, out = NOT(inp)\n",
    "    print('NOT with input',inp,'gives output',out)\n",
    "    display(qc.draw())\n",
    "    print('\\n')"
   ]
  },
  {
   "cell_type": "markdown",
   "id": "19e579ba",
   "metadata": {},
   "source": [
    "## The XOR gate\n",
    "\n",
    "An XOR operation is done with a controlled NOT quantum gate (cx): flip the target qubit if the control qubit is |1>."
   ]
  },
  {
   "cell_type": "code",
   "execution_count": 4,
   "id": "607bfce0",
   "metadata": {},
   "outputs": [],
   "source": [
    "def XOR(inp1,inp2):\n",
    "    \"\"\"An XOR gate.\n",
    "    \n",
    "    Parameters:\n",
    "        inpt1 (str): Input 1, encoded in qubit 0.\n",
    "        inpt2 (str): Input 2, encoded in qubit 1.\n",
    "        \n",
    "    Returns:\n",
    "        QuantumCircuit: Output XOR circuit.\n",
    "        str: Output value measured from qubit 1.\n",
    "    \"\"\"\n",
    "  \n",
    "    qc = QuantumCircuit(2, 1) \n",
    "    qc.reset(range(2))\n",
    "    \n",
    "    if inp1=='1':\n",
    "        qc.x(0)\n",
    "    if inp2=='1':\n",
    "        qc.x(1)\n",
    "    \n",
    "    # barrier between input state and gate operation \n",
    "    qc.barrier()\n",
    "    \n",
    "    qc.cx(0,1) # Target qubit (1) flipped if control qubit (0) is 1\n",
    "        \n",
    "    # barrier between gate operation and measurement\n",
    "    qc.barrier()\n",
    "    \n",
    "    qc.measure(1,0) # output from qubit 1 is measured\n",
    "  \n",
    "    #We'll run the program on a simulator\n",
    "    backend = Aer.get_backend('aer_simulator')\n",
    "    #Since the output will be deterministic, we can use just a single shot to get it\n",
    "    job = backend.run(qc, shots=1, memory=True)\n",
    "    output = job.result().get_memory()[0]\n",
    "  \n",
    "    return qc, output"
   ]
  },
  {
   "cell_type": "code",
   "execution_count": 5,
   "id": "cc0f4e2d",
   "metadata": {},
   "outputs": [
    {
     "name": "stdout",
     "output_type": "stream",
     "text": [
      "XOR with inputs 0 0 gives output 0\n"
     ]
    },
    {
     "data": {
      "text/html": [
       "<pre style=\"word-wrap: normal;white-space: pre;background: #fff0;line-height: 1.1;font-family: &quot;Courier New&quot;,Courier,monospace\">           ░       ░    \n",
       "q_0: ─|0>──░───■───░────\n",
       "           ░ ┌─┴─┐ ░ ┌─┐\n",
       "q_1: ─|0>──░─┤ X ├─░─┤M├\n",
       "           ░ └───┘ ░ └╥┘\n",
       "c: 1/═════════════════╩═\n",
       "                      0 </pre>"
      ],
      "text/plain": [
       "           ░       ░    \n",
       "q_0: ─|0>──░───■───░────\n",
       "           ░ ┌─┴─┐ ░ ┌─┐\n",
       "q_1: ─|0>──░─┤ X ├─░─┤M├\n",
       "           ░ └───┘ ░ └╥┘\n",
       "c: 1/═════════════════╩═\n",
       "                      0 "
      ]
     },
     "metadata": {},
     "output_type": "display_data"
    },
    {
     "name": "stdout",
     "output_type": "stream",
     "text": [
      "\n",
      "\n",
      "XOR with inputs 0 1 gives output 1\n"
     ]
    },
    {
     "data": {
      "text/html": [
       "<pre style=\"word-wrap: normal;white-space: pre;background: #fff0;line-height: 1.1;font-family: &quot;Courier New&quot;,Courier,monospace\">                ░       ░    \n",
       "q_0: ─|0>───────░───■───░────\n",
       "          ┌───┐ ░ ┌─┴─┐ ░ ┌─┐\n",
       "q_1: ─|0>─┤ X ├─░─┤ X ├─░─┤M├\n",
       "          └───┘ ░ └───┘ ░ └╥┘\n",
       "c: 1/══════════════════════╩═\n",
       "                           0 </pre>"
      ],
      "text/plain": [
       "                ░       ░    \n",
       "q_0: ─|0>───────░───■───░────\n",
       "          ┌───┐ ░ ┌─┴─┐ ░ ┌─┐\n",
       "q_1: ─|0>─┤ X ├─░─┤ X ├─░─┤M├\n",
       "          └───┘ ░ └───┘ ░ └╥┘\n",
       "c: 1/══════════════════════╩═\n",
       "                           0 "
      ]
     },
     "metadata": {},
     "output_type": "display_data"
    },
    {
     "name": "stdout",
     "output_type": "stream",
     "text": [
      "\n",
      "\n",
      "XOR with inputs 1 0 gives output 1\n"
     ]
    },
    {
     "data": {
      "text/html": [
       "<pre style=\"word-wrap: normal;white-space: pre;background: #fff0;line-height: 1.1;font-family: &quot;Courier New&quot;,Courier,monospace\">          ┌───┐ ░       ░    \n",
       "q_0: ─|0>─┤ X ├─░───■───░────\n",
       "          └───┘ ░ ┌─┴─┐ ░ ┌─┐\n",
       "q_1: ─|0>───────░─┤ X ├─░─┤M├\n",
       "                ░ └───┘ ░ └╥┘\n",
       "c: 1/══════════════════════╩═\n",
       "                           0 </pre>"
      ],
      "text/plain": [
       "          ┌───┐ ░       ░    \n",
       "q_0: ─|0>─┤ X ├─░───■───░────\n",
       "          └───┘ ░ ┌─┴─┐ ░ ┌─┐\n",
       "q_1: ─|0>───────░─┤ X ├─░─┤M├\n",
       "                ░ └───┘ ░ └╥┘\n",
       "c: 1/══════════════════════╩═\n",
       "                           0 "
      ]
     },
     "metadata": {},
     "output_type": "display_data"
    },
    {
     "name": "stdout",
     "output_type": "stream",
     "text": [
      "\n",
      "\n",
      "XOR with inputs 1 1 gives output 0\n"
     ]
    },
    {
     "data": {
      "text/html": [
       "<pre style=\"word-wrap: normal;white-space: pre;background: #fff0;line-height: 1.1;font-family: &quot;Courier New&quot;,Courier,monospace\">          ┌───┐ ░       ░    \n",
       "q_0: ─|0>─┤ X ├─░───■───░────\n",
       "          ├───┤ ░ ┌─┴─┐ ░ ┌─┐\n",
       "q_1: ─|0>─┤ X ├─░─┤ X ├─░─┤M├\n",
       "          └───┘ ░ └───┘ ░ └╥┘\n",
       "c: 1/══════════════════════╩═\n",
       "                           0 </pre>"
      ],
      "text/plain": [
       "          ┌───┐ ░       ░    \n",
       "q_0: ─|0>─┤ X ├─░───■───░────\n",
       "          ├───┤ ░ ┌─┴─┐ ░ ┌─┐\n",
       "q_1: ─|0>─┤ X ├─░─┤ X ├─░─┤M├\n",
       "          └───┘ ░ └───┘ ░ └╥┘\n",
       "c: 1/══════════════════════╩═\n",
       "                           0 "
      ]
     },
     "metadata": {},
     "output_type": "display_data"
    },
    {
     "name": "stdout",
     "output_type": "stream",
     "text": [
      "\n",
      "\n"
     ]
    }
   ],
   "source": [
    "## Test the function\n",
    "for inp1 in ['0', '1']:\n",
    "    for inp2 in ['0', '1']:\n",
    "        qc, output = XOR(inp1, inp2)\n",
    "        print('XOR with inputs',inp1,inp2,'gives output',output)\n",
    "        display(qc.draw())\n",
    "        print('\\n')"
   ]
  },
  {
   "cell_type": "markdown",
   "id": "53b749dd",
   "metadata": {},
   "source": [
    "## The AND gate\n",
    "\n",
    "An AND gate is realized with a Toffoli gate (ccx): target qubit flipped only if both control qubits are |1>."
   ]
  },
  {
   "cell_type": "code",
   "execution_count": 6,
   "id": "1a558ec5",
   "metadata": {},
   "outputs": [],
   "source": [
    "def AND(inp1,inp2):\n",
    "    \"\"\"An AND gate.\n",
    "    \n",
    "    Parameters:\n",
    "        inpt1 (str): Input 1, encoded in qubit 0.\n",
    "        inpt2 (str): Input 2, encoded in qubit 1.\n",
    "        \n",
    "    Returns:\n",
    "        QuantumCircuit: Output XOR circuit.\n",
    "        str: Output value measured from qubit 2.\n",
    "    \"\"\"\n",
    "    qc = QuantumCircuit(3, 1) \n",
    "    qc.reset(range(2))\n",
    "  \n",
    "    if inp1=='1':\n",
    "        qc.x(0)\n",
    "    if inp2=='1':\n",
    "        qc.x(1)\n",
    "        \n",
    "    qc.barrier()\n",
    "\n",
    "    qc.ccx(0,1,2)\n",
    "    \n",
    "    qc.barrier()\n",
    "    qc.measure(2, 0) # output from qubit 2 is measured\n",
    "  \n",
    "    # We'll run the program on a simulator\n",
    "    backend = Aer.get_backend('aer_simulator')\n",
    "    # Since the output will be deterministic, we can use just a single shot to get it\n",
    "    job = backend.run(qc, shots=1, memory=True)\n",
    "    output = job.result().get_memory()[0]\n",
    "  \n",
    "    return qc, output"
   ]
  },
  {
   "cell_type": "code",
   "execution_count": 7,
   "id": "70541172",
   "metadata": {},
   "outputs": [
    {
     "name": "stdout",
     "output_type": "stream",
     "text": [
      "AND with inputs 0 0 gives output 0\n"
     ]
    },
    {
     "data": {
      "text/html": [
       "<pre style=\"word-wrap: normal;white-space: pre;background: #fff0;line-height: 1.1;font-family: &quot;Courier New&quot;,Courier,monospace\">           ░       ░    \n",
       "q_0: ─|0>──░───■───░────\n",
       "           ░   │   ░    \n",
       "q_1: ─|0>──░───■───░────\n",
       "           ░ ┌─┴─┐ ░ ┌─┐\n",
       "q_2: ──────░─┤ X ├─░─┤M├\n",
       "           ░ └───┘ ░ └╥┘\n",
       "c: 1/═════════════════╩═\n",
       "                      0 </pre>"
      ],
      "text/plain": [
       "           ░       ░    \n",
       "q_0: ─|0>──░───■───░────\n",
       "           ░   │   ░    \n",
       "q_1: ─|0>──░───■───░────\n",
       "           ░ ┌─┴─┐ ░ ┌─┐\n",
       "q_2: ──────░─┤ X ├─░─┤M├\n",
       "           ░ └───┘ ░ └╥┘\n",
       "c: 1/═════════════════╩═\n",
       "                      0 "
      ]
     },
     "metadata": {},
     "output_type": "display_data"
    },
    {
     "name": "stdout",
     "output_type": "stream",
     "text": [
      "\n",
      "\n",
      "AND with inputs 0 1 gives output 0\n"
     ]
    },
    {
     "data": {
      "text/html": [
       "<pre style=\"word-wrap: normal;white-space: pre;background: #fff0;line-height: 1.1;font-family: &quot;Courier New&quot;,Courier,monospace\">                ░       ░    \n",
       "q_0: ─|0>───────░───■───░────\n",
       "          ┌───┐ ░   │   ░    \n",
       "q_1: ─|0>─┤ X ├─░───■───░────\n",
       "          └───┘ ░ ┌─┴─┐ ░ ┌─┐\n",
       "q_2: ───────────░─┤ X ├─░─┤M├\n",
       "                ░ └───┘ ░ └╥┘\n",
       "c: 1/══════════════════════╩═\n",
       "                           0 </pre>"
      ],
      "text/plain": [
       "                ░       ░    \n",
       "q_0: ─|0>───────░───■───░────\n",
       "          ┌───┐ ░   │   ░    \n",
       "q_1: ─|0>─┤ X ├─░───■───░────\n",
       "          └───┘ ░ ┌─┴─┐ ░ ┌─┐\n",
       "q_2: ───────────░─┤ X ├─░─┤M├\n",
       "                ░ └───┘ ░ └╥┘\n",
       "c: 1/══════════════════════╩═\n",
       "                           0 "
      ]
     },
     "metadata": {},
     "output_type": "display_data"
    },
    {
     "name": "stdout",
     "output_type": "stream",
     "text": [
      "\n",
      "\n",
      "AND with inputs 1 0 gives output 0\n"
     ]
    },
    {
     "data": {
      "text/html": [
       "<pre style=\"word-wrap: normal;white-space: pre;background: #fff0;line-height: 1.1;font-family: &quot;Courier New&quot;,Courier,monospace\">          ┌───┐ ░       ░    \n",
       "q_0: ─|0>─┤ X ├─░───■───░────\n",
       "          └───┘ ░   │   ░    \n",
       "q_1: ─|0>───────░───■───░────\n",
       "                ░ ┌─┴─┐ ░ ┌─┐\n",
       "q_2: ───────────░─┤ X ├─░─┤M├\n",
       "                ░ └───┘ ░ └╥┘\n",
       "c: 1/══════════════════════╩═\n",
       "                           0 </pre>"
      ],
      "text/plain": [
       "          ┌───┐ ░       ░    \n",
       "q_0: ─|0>─┤ X ├─░───■───░────\n",
       "          └───┘ ░   │   ░    \n",
       "q_1: ─|0>───────░───■───░────\n",
       "                ░ ┌─┴─┐ ░ ┌─┐\n",
       "q_2: ───────────░─┤ X ├─░─┤M├\n",
       "                ░ └───┘ ░ └╥┘\n",
       "c: 1/══════════════════════╩═\n",
       "                           0 "
      ]
     },
     "metadata": {},
     "output_type": "display_data"
    },
    {
     "name": "stdout",
     "output_type": "stream",
     "text": [
      "\n",
      "\n",
      "AND with inputs 1 1 gives output 1\n"
     ]
    },
    {
     "data": {
      "text/html": [
       "<pre style=\"word-wrap: normal;white-space: pre;background: #fff0;line-height: 1.1;font-family: &quot;Courier New&quot;,Courier,monospace\">          ┌───┐ ░       ░    \n",
       "q_0: ─|0>─┤ X ├─░───■───░────\n",
       "          ├───┤ ░   │   ░    \n",
       "q_1: ─|0>─┤ X ├─░───■───░────\n",
       "          └───┘ ░ ┌─┴─┐ ░ ┌─┐\n",
       "q_2: ───────────░─┤ X ├─░─┤M├\n",
       "                ░ └───┘ ░ └╥┘\n",
       "c: 1/══════════════════════╩═\n",
       "                           0 </pre>"
      ],
      "text/plain": [
       "          ┌───┐ ░       ░    \n",
       "q_0: ─|0>─┤ X ├─░───■───░────\n",
       "          ├───┤ ░   │   ░    \n",
       "q_1: ─|0>─┤ X ├─░───■───░────\n",
       "          └───┘ ░ ┌─┴─┐ ░ ┌─┐\n",
       "q_2: ───────────░─┤ X ├─░─┤M├\n",
       "                ░ └───┘ ░ └╥┘\n",
       "c: 1/══════════════════════╩═\n",
       "                           0 "
      ]
     },
     "metadata": {},
     "output_type": "display_data"
    },
    {
     "name": "stdout",
     "output_type": "stream",
     "text": [
      "\n",
      "\n"
     ]
    }
   ],
   "source": [
    "## Test the function\n",
    "for inp1 in ['0', '1']:\n",
    "    for inp2 in ['0', '1']:\n",
    "        qc, output = AND(inp1, inp2)\n",
    "        print('AND with inputs',inp1,inp2,'gives output',output)\n",
    "        display(qc.draw())\n",
    "        print('\\n')"
   ]
  },
  {
   "cell_type": "markdown",
   "id": "1c9f75e3",
   "metadata": {},
   "source": [
    "## The NAND gate\n",
    "\n",
    "A NAND gate returns 0 only if both bits are 1. It is simply a combination of AND and NOT: NOT(AND(b1,b2))."
   ]
  },
  {
   "cell_type": "code",
   "execution_count": 8,
   "id": "22c5239e",
   "metadata": {},
   "outputs": [],
   "source": [
    "def NAND(inp1,inp2):\n",
    "    \"\"\"An NAND gate.\n",
    "    \n",
    "    Parameters:\n",
    "        inpt1 (str): Input 1, encoded in qubit 0.\n",
    "        inpt2 (str): Input 2, encoded in qubit 1.\n",
    "        \n",
    "    Returns:\n",
    "        QuantumCircuit: Output NAND circuit.\n",
    "        str: Output value measured from qubit 2.\n",
    "    \"\"\"\n",
    "    qc = QuantumCircuit(3, 1) \n",
    "    qc.reset(range(3))\n",
    "    \n",
    "    if inp1=='1':\n",
    "        qc.x(0)\n",
    "    if inp2=='1':\n",
    "        qc.x(1)\n",
    "    \n",
    "    qc.barrier()\n",
    "    \n",
    "    qc.ccx(0,1,2)\n",
    "    qc.x(2)\n",
    "    \n",
    "    qc.barrier()\n",
    "    qc.measure(2, 0) # output from qubit 2 is measured\n",
    "  \n",
    "    # We'll run the program on a simulator\n",
    "    backend = Aer.get_backend('aer_simulator')\n",
    "    # Since the output will be deterministic, we can use just a single shot to get it\n",
    "    job = backend.run(qc,shots=1,memory=True)\n",
    "    output = job.result().get_memory()[0]\n",
    "  \n",
    "    return qc, output"
   ]
  },
  {
   "cell_type": "code",
   "execution_count": 9,
   "id": "a5a5f8ba",
   "metadata": {},
   "outputs": [
    {
     "name": "stdout",
     "output_type": "stream",
     "text": [
      "NAND with inputs 0 0 gives output 1\n"
     ]
    },
    {
     "data": {
      "text/html": [
       "<pre style=\"word-wrap: normal;white-space: pre;background: #fff0;line-height: 1.1;font-family: &quot;Courier New&quot;,Courier,monospace\">           ░            ░    \n",
       "q_0: ─|0>──░───■────────░────\n",
       "           ░   │        ░    \n",
       "q_1: ─|0>──░───■────────░────\n",
       "           ░ ┌─┴─┐┌───┐ ░ ┌─┐\n",
       "q_2: ─|0>──░─┤ X ├┤ X ├─░─┤M├\n",
       "           ░ └───┘└───┘ ░ └╥┘\n",
       "c: 1/══════════════════════╩═\n",
       "                           0 </pre>"
      ],
      "text/plain": [
       "           ░            ░    \n",
       "q_0: ─|0>──░───■────────░────\n",
       "           ░   │        ░    \n",
       "q_1: ─|0>──░───■────────░────\n",
       "           ░ ┌─┴─┐┌───┐ ░ ┌─┐\n",
       "q_2: ─|0>──░─┤ X ├┤ X ├─░─┤M├\n",
       "           ░ └───┘└───┘ ░ └╥┘\n",
       "c: 1/══════════════════════╩═\n",
       "                           0 "
      ]
     },
     "metadata": {},
     "output_type": "display_data"
    },
    {
     "name": "stdout",
     "output_type": "stream",
     "text": [
      "\n",
      "\n",
      "NAND with inputs 0 1 gives output 1\n"
     ]
    },
    {
     "data": {
      "text/html": [
       "<pre style=\"word-wrap: normal;white-space: pre;background: #fff0;line-height: 1.1;font-family: &quot;Courier New&quot;,Courier,monospace\">                ░            ░    \n",
       "q_0: ─|0>───────░───■────────░────\n",
       "          ┌───┐ ░   │        ░    \n",
       "q_1: ─|0>─┤ X ├─░───■────────░────\n",
       "          └───┘ ░ ┌─┴─┐┌───┐ ░ ┌─┐\n",
       "q_2: ─|0>───────░─┤ X ├┤ X ├─░─┤M├\n",
       "                ░ └───┘└───┘ ░ └╥┘\n",
       "c: 1/═══════════════════════════╩═\n",
       "                                0 </pre>"
      ],
      "text/plain": [
       "                ░            ░    \n",
       "q_0: ─|0>───────░───■────────░────\n",
       "          ┌───┐ ░   │        ░    \n",
       "q_1: ─|0>─┤ X ├─░───■────────░────\n",
       "          └───┘ ░ ┌─┴─┐┌───┐ ░ ┌─┐\n",
       "q_2: ─|0>───────░─┤ X ├┤ X ├─░─┤M├\n",
       "                ░ └───┘└───┘ ░ └╥┘\n",
       "c: 1/═══════════════════════════╩═\n",
       "                                0 "
      ]
     },
     "metadata": {},
     "output_type": "display_data"
    },
    {
     "name": "stdout",
     "output_type": "stream",
     "text": [
      "\n",
      "\n",
      "NAND with inputs 1 0 gives output 1\n"
     ]
    },
    {
     "data": {
      "text/html": [
       "<pre style=\"word-wrap: normal;white-space: pre;background: #fff0;line-height: 1.1;font-family: &quot;Courier New&quot;,Courier,monospace\">          ┌───┐ ░            ░    \n",
       "q_0: ─|0>─┤ X ├─░───■────────░────\n",
       "          └───┘ ░   │        ░    \n",
       "q_1: ─|0>───────░───■────────░────\n",
       "                ░ ┌─┴─┐┌───┐ ░ ┌─┐\n",
       "q_2: ─|0>───────░─┤ X ├┤ X ├─░─┤M├\n",
       "                ░ └───┘└───┘ ░ └╥┘\n",
       "c: 1/═══════════════════════════╩═\n",
       "                                0 </pre>"
      ],
      "text/plain": [
       "          ┌───┐ ░            ░    \n",
       "q_0: ─|0>─┤ X ├─░───■────────░────\n",
       "          └───┘ ░   │        ░    \n",
       "q_1: ─|0>───────░───■────────░────\n",
       "                ░ ┌─┴─┐┌───┐ ░ ┌─┐\n",
       "q_2: ─|0>───────░─┤ X ├┤ X ├─░─┤M├\n",
       "                ░ └───┘└───┘ ░ └╥┘\n",
       "c: 1/═══════════════════════════╩═\n",
       "                                0 "
      ]
     },
     "metadata": {},
     "output_type": "display_data"
    },
    {
     "name": "stdout",
     "output_type": "stream",
     "text": [
      "\n",
      "\n",
      "NAND with inputs 1 1 gives output 0\n"
     ]
    },
    {
     "data": {
      "text/html": [
       "<pre style=\"word-wrap: normal;white-space: pre;background: #fff0;line-height: 1.1;font-family: &quot;Courier New&quot;,Courier,monospace\">          ┌───┐ ░            ░    \n",
       "q_0: ─|0>─┤ X ├─░───■────────░────\n",
       "          ├───┤ ░   │        ░    \n",
       "q_1: ─|0>─┤ X ├─░───■────────░────\n",
       "          └───┘ ░ ┌─┴─┐┌───┐ ░ ┌─┐\n",
       "q_2: ─|0>───────░─┤ X ├┤ X ├─░─┤M├\n",
       "                ░ └───┘└───┘ ░ └╥┘\n",
       "c: 1/═══════════════════════════╩═\n",
       "                                0 </pre>"
      ],
      "text/plain": [
       "          ┌───┐ ░            ░    \n",
       "q_0: ─|0>─┤ X ├─░───■────────░────\n",
       "          ├───┤ ░   │        ░    \n",
       "q_1: ─|0>─┤ X ├─░───■────────░────\n",
       "          └───┘ ░ ┌─┴─┐┌───┐ ░ ┌─┐\n",
       "q_2: ─|0>───────░─┤ X ├┤ X ├─░─┤M├\n",
       "                ░ └───┘└───┘ ░ └╥┘\n",
       "c: 1/═══════════════════════════╩═\n",
       "                                0 "
      ]
     },
     "metadata": {},
     "output_type": "display_data"
    },
    {
     "name": "stdout",
     "output_type": "stream",
     "text": [
      "\n",
      "\n"
     ]
    }
   ],
   "source": [
    "## Test the function\n",
    "for inp1 in ['0', '1']:\n",
    "    for inp2 in ['0', '1']:\n",
    "        qc, output = NAND(inp1, inp2)\n",
    "        print('NAND with inputs',inp1,inp2,'gives output',output)\n",
    "        display(qc.draw())\n",
    "        print('\\n')"
   ]
  },
  {
   "cell_type": "markdown",
   "id": "b43e7bcf",
   "metadata": {},
   "source": [
    "## The OR gate\n",
    "\n",
    "Using de Morgan's laws, we can rewrite OR as a combination of AND and NOT: OR(b1,b2)=NOT(AND(NOT(b1),NOT(b2)))."
   ]
  },
  {
   "cell_type": "code",
   "execution_count": 10,
   "id": "edf18726",
   "metadata": {},
   "outputs": [],
   "source": [
    "def OR(inp1,inp2):\n",
    "    \"\"\"An OR gate.\n",
    "    \n",
    "    Parameters:\n",
    "        inpt1 (str): Input 1, encoded in qubit 0.\n",
    "        inpt2 (str): Input 2, encoded in qubit 1.\n",
    "        \n",
    "    Returns:\n",
    "        QuantumCircuit: Output XOR circuit.\n",
    "        str: Output value measured from qubit 2.\n",
    "    \"\"\"\n",
    "\n",
    "    qc = QuantumCircuit(3, 1) \n",
    "    qc.reset(range(3))\n",
    "    \n",
    "    if inp1=='1':\n",
    "        qc.x(0)\n",
    "    if inp2=='1':\n",
    "        qc.x(1)\n",
    "    \n",
    "    qc.barrier()\n",
    "   \n",
    "    qc.x(0)\n",
    "    qc.x(1)\n",
    "    qc.ccx(0,1,2)\n",
    "    qc.x(2)\n",
    "    \n",
    "    qc.barrier()\n",
    "    qc.measure(2, 0) # output from qubit 2 is measured\n",
    "  \n",
    "    # We'll run the program on a simulator\n",
    "    backend = Aer.get_backend('aer_simulator')\n",
    "    # Since the output will be deterministic, we can use just a single shot to get it\n",
    "    job = backend.run(qc,shots=1,memory=True)\n",
    "    output = job.result().get_memory()[0]\n",
    "  \n",
    "    return qc, output"
   ]
  },
  {
   "cell_type": "code",
   "execution_count": 11,
   "id": "f2bc2ccb",
   "metadata": {},
   "outputs": [
    {
     "name": "stdout",
     "output_type": "stream",
     "text": [
      "OR with inputs 0 0 gives output 0\n"
     ]
    },
    {
     "data": {
      "text/html": [
       "<pre style=\"word-wrap: normal;white-space: pre;background: #fff0;line-height: 1.1;font-family: &quot;Courier New&quot;,Courier,monospace\">           ░ ┌───┐           ░    \n",
       "q_0: ─|0>──░─┤ X ├──■────────░────\n",
       "           ░ ├───┤  │        ░    \n",
       "q_1: ─|0>──░─┤ X ├──■────────░────\n",
       "           ░ └───┘┌─┴─┐┌───┐ ░ ┌─┐\n",
       "q_2: ─|0>──░──────┤ X ├┤ X ├─░─┤M├\n",
       "           ░      └───┘└───┘ ░ └╥┘\n",
       "c: 1/═══════════════════════════╩═\n",
       "                                0 </pre>"
      ],
      "text/plain": [
       "           ░ ┌───┐           ░    \n",
       "q_0: ─|0>──░─┤ X ├──■────────░────\n",
       "           ░ ├───┤  │        ░    \n",
       "q_1: ─|0>──░─┤ X ├──■────────░────\n",
       "           ░ └───┘┌─┴─┐┌───┐ ░ ┌─┐\n",
       "q_2: ─|0>──░──────┤ X ├┤ X ├─░─┤M├\n",
       "           ░      └───┘└───┘ ░ └╥┘\n",
       "c: 1/═══════════════════════════╩═\n",
       "                                0 "
      ]
     },
     "metadata": {},
     "output_type": "display_data"
    },
    {
     "name": "stdout",
     "output_type": "stream",
     "text": [
      "\n",
      "\n",
      "OR with inputs 0 1 gives output 1\n"
     ]
    },
    {
     "data": {
      "text/html": [
       "<pre style=\"word-wrap: normal;white-space: pre;background: #fff0;line-height: 1.1;font-family: &quot;Courier New&quot;,Courier,monospace\">                ░ ┌───┐           ░    \n",
       "q_0: ─|0>───────░─┤ X ├──■────────░────\n",
       "          ┌───┐ ░ ├───┤  │        ░    \n",
       "q_1: ─|0>─┤ X ├─░─┤ X ├──■────────░────\n",
       "          └───┘ ░ └───┘┌─┴─┐┌───┐ ░ ┌─┐\n",
       "q_2: ─|0>───────░──────┤ X ├┤ X ├─░─┤M├\n",
       "                ░      └───┘└───┘ ░ └╥┘\n",
       "c: 1/════════════════════════════════╩═\n",
       "                                     0 </pre>"
      ],
      "text/plain": [
       "                ░ ┌───┐           ░    \n",
       "q_0: ─|0>───────░─┤ X ├──■────────░────\n",
       "          ┌───┐ ░ ├───┤  │        ░    \n",
       "q_1: ─|0>─┤ X ├─░─┤ X ├──■────────░────\n",
       "          └───┘ ░ └───┘┌─┴─┐┌───┐ ░ ┌─┐\n",
       "q_2: ─|0>───────░──────┤ X ├┤ X ├─░─┤M├\n",
       "                ░      └───┘└───┘ ░ └╥┘\n",
       "c: 1/════════════════════════════════╩═\n",
       "                                     0 "
      ]
     },
     "metadata": {},
     "output_type": "display_data"
    },
    {
     "name": "stdout",
     "output_type": "stream",
     "text": [
      "\n",
      "\n",
      "OR with inputs 1 0 gives output 1\n"
     ]
    },
    {
     "data": {
      "text/html": [
       "<pre style=\"word-wrap: normal;white-space: pre;background: #fff0;line-height: 1.1;font-family: &quot;Courier New&quot;,Courier,monospace\">          ┌───┐ ░ ┌───┐           ░    \n",
       "q_0: ─|0>─┤ X ├─░─┤ X ├──■────────░────\n",
       "          └───┘ ░ ├───┤  │        ░    \n",
       "q_1: ─|0>───────░─┤ X ├──■────────░────\n",
       "                ░ └───┘┌─┴─┐┌───┐ ░ ┌─┐\n",
       "q_2: ─|0>───────░──────┤ X ├┤ X ├─░─┤M├\n",
       "                ░      └───┘└───┘ ░ └╥┘\n",
       "c: 1/════════════════════════════════╩═\n",
       "                                     0 </pre>"
      ],
      "text/plain": [
       "          ┌───┐ ░ ┌───┐           ░    \n",
       "q_0: ─|0>─┤ X ├─░─┤ X ├──■────────░────\n",
       "          └───┘ ░ ├───┤  │        ░    \n",
       "q_1: ─|0>───────░─┤ X ├──■────────░────\n",
       "                ░ └───┘┌─┴─┐┌───┐ ░ ┌─┐\n",
       "q_2: ─|0>───────░──────┤ X ├┤ X ├─░─┤M├\n",
       "                ░      └───┘└───┘ ░ └╥┘\n",
       "c: 1/════════════════════════════════╩═\n",
       "                                     0 "
      ]
     },
     "metadata": {},
     "output_type": "display_data"
    },
    {
     "name": "stdout",
     "output_type": "stream",
     "text": [
      "\n",
      "\n",
      "OR with inputs 1 1 gives output 1\n"
     ]
    },
    {
     "data": {
      "text/html": [
       "<pre style=\"word-wrap: normal;white-space: pre;background: #fff0;line-height: 1.1;font-family: &quot;Courier New&quot;,Courier,monospace\">          ┌───┐ ░ ┌───┐           ░    \n",
       "q_0: ─|0>─┤ X ├─░─┤ X ├──■────────░────\n",
       "          ├───┤ ░ ├───┤  │        ░    \n",
       "q_1: ─|0>─┤ X ├─░─┤ X ├──■────────░────\n",
       "          └───┘ ░ └───┘┌─┴─┐┌───┐ ░ ┌─┐\n",
       "q_2: ─|0>───────░──────┤ X ├┤ X ├─░─┤M├\n",
       "                ░      └───┘└───┘ ░ └╥┘\n",
       "c: 1/════════════════════════════════╩═\n",
       "                                     0 </pre>"
      ],
      "text/plain": [
       "          ┌───┐ ░ ┌───┐           ░    \n",
       "q_0: ─|0>─┤ X ├─░─┤ X ├──■────────░────\n",
       "          ├───┤ ░ ├───┤  │        ░    \n",
       "q_1: ─|0>─┤ X ├─░─┤ X ├──■────────░────\n",
       "          └───┘ ░ └───┘┌─┴─┐┌───┐ ░ ┌─┐\n",
       "q_2: ─|0>───────░──────┤ X ├┤ X ├─░─┤M├\n",
       "                ░      └───┘└───┘ ░ └╥┘\n",
       "c: 1/════════════════════════════════╩═\n",
       "                                     0 "
      ]
     },
     "metadata": {},
     "output_type": "display_data"
    },
    {
     "name": "stdout",
     "output_type": "stream",
     "text": [
      "\n",
      "\n"
     ]
    }
   ],
   "source": [
    "## Test the function\n",
    "for inp1 in ['0', '1']:\n",
    "    for inp2 in ['0', '1']:\n",
    "        qc, output = OR(inp1, inp2)\n",
    "        print('OR with inputs',inp1,inp2,'gives output',output)\n",
    "        display(qc.draw())\n",
    "        print('\\n')"
   ]
  },
  {
   "cell_type": "markdown",
   "id": "9e0cbcd9",
   "metadata": {},
   "source": [
    "# The AND gate on a quantum computer"
   ]
  },
  {
   "cell_type": "code",
   "execution_count": 12,
   "id": "3cfd8bcc",
   "metadata": {},
   "outputs": [
    {
     "data": {
      "text/plain": [
       "<AccountProvider for IBMQ(hub='ibm-q', group='open', project='main')>"
      ]
     },
     "execution_count": 12,
     "metadata": {},
     "output_type": "execute_result"
    }
   ],
   "source": [
    "IBMQ.load_account()"
   ]
  },
  {
   "cell_type": "markdown",
   "id": "06097cf9",
   "metadata": {},
   "source": [
    "Get list of providers, for open accounts there is only one provider `ibm-q/open/main`:"
   ]
  },
  {
   "cell_type": "code",
   "execution_count": 13,
   "id": "60d8f98f",
   "metadata": {},
   "outputs": [
    {
     "data": {
      "text/plain": [
       "[<AccountProvider for IBMQ(hub='ibm-q', group='open', project='main')>]"
      ]
     },
     "execution_count": 13,
     "metadata": {},
     "output_type": "execute_result"
    }
   ],
   "source": [
    "IBMQ.providers()"
   ]
  },
  {
   "cell_type": "markdown",
   "id": "c5a908e6",
   "metadata": {},
   "source": [
    "Get list of available backends for this provider:"
   ]
  },
  {
   "cell_type": "code",
   "execution_count": 14,
   "id": "ecb1ff9a",
   "metadata": {},
   "outputs": [
    {
     "data": {
      "text/plain": [
       "[<IBMQSimulator('ibmq_qasm_simulator') from IBMQ(hub='ibm-q', group='open', project='main')>,\n",
       " <IBMQBackend('ibmq_lima') from IBMQ(hub='ibm-q', group='open', project='main')>,\n",
       " <IBMQBackend('ibmq_belem') from IBMQ(hub='ibm-q', group='open', project='main')>,\n",
       " <IBMQBackend('ibmq_quito') from IBMQ(hub='ibm-q', group='open', project='main')>,\n",
       " <IBMQSimulator('simulator_statevector') from IBMQ(hub='ibm-q', group='open', project='main')>,\n",
       " <IBMQSimulator('simulator_mps') from IBMQ(hub='ibm-q', group='open', project='main')>,\n",
       " <IBMQSimulator('simulator_extended_stabilizer') from IBMQ(hub='ibm-q', group='open', project='main')>,\n",
       " <IBMQSimulator('simulator_stabilizer') from IBMQ(hub='ibm-q', group='open', project='main')>,\n",
       " <IBMQBackend('ibmq_manila') from IBMQ(hub='ibm-q', group='open', project='main')>,\n",
       " <IBMQBackend('ibm_nairobi') from IBMQ(hub='ibm-q', group='open', project='main')>,\n",
       " <IBMQBackend('ibm_oslo') from IBMQ(hub='ibm-q', group='open', project='main')>]"
      ]
     },
     "execution_count": 14,
     "metadata": {},
     "output_type": "execute_result"
    }
   ],
   "source": [
    "provider = IBMQ.get_provider('ibm-q')\n",
    "provider.backends()"
   ]
  },
  {
   "cell_type": "markdown",
   "id": "a0c80500",
   "metadata": {},
   "source": [
    "Display information about a chosen backend:"
   ]
  },
  {
   "cell_type": "code",
   "execution_count": 15,
   "id": "bd1c673b",
   "metadata": {},
   "outputs": [
    {
     "data": {
      "image/png": "[encoded data removed]",
      "text/plain": [
       "<Figure size 360x360 with 1 Axes>"
      ]
     },
     "metadata": {},
     "output_type": "display_data"
    },
    {
     "data": {
      "image/png": "[encoded data removed]",
      "text/plain": [
       "<Figure size 792x648 with 5 Axes>"
      ]
     },
     "metadata": {},
     "output_type": "display_data"
    },
    {
     "data": {
      "application/vnd.jupyter.widget-view+json": {
       "model_id": "898681211d314825bb0aab2829683ac5",
       "version_major": 2,
       "version_minor": 0
      },
      "text/plain": [
       "VBox(children=(HTML(value=\"<h1 style='color:#ffffff;background-color:#000000;padding-top: 1%;padding-bottom: 1…"
      ]
     },
     "metadata": {},
     "output_type": "display_data"
    },
    {
     "data": {
      "text/plain": [
       "<IBMQBackend('ibmq_lima') from IBMQ(hub='ibm-q', group='open', project='main')>"
      ]
     },
     "execution_count": 15,
     "metadata": {},
     "output_type": "execute_result"
    }
   ],
   "source": [
    "import qiskit.tools.jupyter\n",
    "\n",
    "backend_ex = provider.get_backend('ibmq_lima')\n",
    "backend_ex"
   ]
  },
  {
   "cell_type": "markdown",
   "id": "0a219784",
   "metadata": {},
   "source": [
    "Get the least busy backend from a filtered list of backends:"
   ]
  },
  {
   "cell_type": "code",
   "execution_count": 31,
   "id": "56c9d392",
   "metadata": {},
   "outputs": [
    {
     "data": {
      "image/png": "[encoded data removed]",
      "text/plain": [
       "<Figure size 360x360 with 1 Axes>"
      ]
     },
     "metadata": {},
     "output_type": "display_data"
    },
    {
     "data": {
      "image/png": "[encoded data removed]",
      "text/plain": [
       "<Figure size 792x648 with 5 Axes>"
      ]
     },
     "metadata": {},
     "output_type": "display_data"
    },
    {
     "data": {
      "application/vnd.jupyter.widget-view+json": {
       "model_id": "b238f22269b24392ae7367a952f84f0f",
       "version_major": 2,
       "version_minor": 0
      },
      "text/plain": [
       "VBox(children=(HTML(value=\"<h1 style='color:#ffffff;background-color:#000000;padding-top: 1%;padding-bottom: 1…"
      ]
     },
     "metadata": {},
     "output_type": "display_data"
    },
    {
     "data": {
      "text/plain": [
       "<IBMQBackend('ibmq_quito') from IBMQ(hub='ibm-q', group='open', project='main')>"
      ]
     },
     "execution_count": 31,
     "metadata": {},
     "output_type": "execute_result"
    }
   ],
   "source": [
    "from qiskit.providers.ibmq import least_busy\n",
    "backend = least_busy(provider.backends(filters=lambda x: x.configuration().n_qubits >= 2 and \n",
    "                                        not x.configuration().simulator and x.status().operational==True))\n",
    "backend"
   ]
  },
  {
   "cell_type": "markdown",
   "id": "9e18bb8d",
   "metadata": {},
   "source": [
    "Show the decomposition of a Toffoli gate into single- and two-qubit gates (the only types of gates available on an IBM QC):"
   ]
  },
  {
   "cell_type": "code",
   "execution_count": 17,
   "id": "379d1036",
   "metadata": {},
   "outputs": [
    {
     "name": "stdout",
     "output_type": "stream",
     "text": [
      "AND gate\n"
     ]
    },
    {
     "data": {
      "text/html": [
       "<pre style=\"word-wrap: normal;white-space: pre;background: #fff0;line-height: 1.1;font-family: &quot;Courier New&quot;,Courier,monospace\">          \n",
       "q_0: ──■──\n",
       "       │  \n",
       "q_1: ──■──\n",
       "     ┌─┴─┐\n",
       "q_2: ┤ X ├\n",
       "     └───┘</pre>"
      ],
      "text/plain": [
       "          \n",
       "q_0: ──■──\n",
       "       │  \n",
       "q_1: ──■──\n",
       "     ┌─┴─┐\n",
       "q_2: ┤ X ├\n",
       "     └───┘"
      ]
     },
     "metadata": {},
     "output_type": "display_data"
    },
    {
     "name": "stdout",
     "output_type": "stream",
     "text": [
      "\n",
      "\n",
      "Transpiled AND gate with all the required connectivity\n"
     ]
    },
    {
     "data": {
      "text/html": [
       "<pre style=\"word-wrap: normal;white-space: pre;background: #fff0;line-height: 1.1;font-family: &quot;Courier New&quot;,Courier,monospace\">                                                       ┌───┐      \n",
       "q_0: ───────────────────■─────────────────────■────■───┤ T ├───■──\n",
       "                        │             ┌───┐   │  ┌─┴─┐┌┴───┴┐┌─┴─┐\n",
       "q_1: ───────■───────────┼─────────■───┤ T ├───┼──┤ X ├┤ Tdg ├┤ X ├\n",
       "     ┌───┐┌─┴─┐┌─────┐┌─┴─┐┌───┐┌─┴─┐┌┴───┴┐┌─┴─┐├───┤└┬───┬┘└───┘\n",
       "q_2: ┤ H ├┤ X ├┤ Tdg ├┤ X ├┤ T ├┤ X ├┤ Tdg ├┤ X ├┤ T ├─┤ H ├──────\n",
       "     └───┘└───┘└─────┘└───┘└───┘└───┘└─────┘└───┘└───┘ └───┘      </pre>"
      ],
      "text/plain": [
       "                                                       ┌───┐      \n",
       "q_0: ───────────────────■─────────────────────■────■───┤ T ├───■──\n",
       "                        │             ┌───┐   │  ┌─┴─┐┌┴───┴┐┌─┴─┐\n",
       "q_1: ───────■───────────┼─────────■───┤ T ├───┼──┤ X ├┤ Tdg ├┤ X ├\n",
       "     ┌───┐┌─┴─┐┌─────┐┌─┴─┐┌───┐┌─┴─┐┌┴───┴┐┌─┴─┐├───┤└┬───┬┘└───┘\n",
       "q_2: ┤ H ├┤ X ├┤ Tdg ├┤ X ├┤ T ├┤ X ├┤ Tdg ├┤ X ├┤ T ├─┤ H ├──────\n",
       "     └───┘└───┘└─────┘└───┘└───┘└───┘└─────┘└───┘└───┘ └───┘      "
      ]
     },
     "execution_count": 17,
     "metadata": {},
     "output_type": "execute_result"
    }
   ],
   "source": [
    "qc_and = QuantumCircuit(3)\n",
    "qc_and.ccx(0,1,2)\n",
    "print('AND gate')\n",
    "display(qc_and.draw())\n",
    "print('\\n\\nTranspiled AND gate with all the required connectivity')\n",
    "qc_and.decompose().draw()"
   ]
  },
  {
   "cell_type": "code",
   "execution_count": 19,
   "id": "bdf6650c",
   "metadata": {},
   "outputs": [],
   "source": [
    "from qiskit.tools.monitor import job_monitor"
   ]
  },
  {
   "cell_type": "markdown",
   "id": "1728b4ca",
   "metadata": {},
   "source": [
    "Define the AND gate (8192 is the maximum number of shots for open IBM systems, if you change the number here you must change it below, too):"
   ]
  },
  {
   "cell_type": "code",
   "execution_count": 27,
   "id": "91341482",
   "metadata": {},
   "outputs": [],
   "source": [
    "def AND(inp1, inp2, backend, layout):\n",
    "    \n",
    "    qc = QuantumCircuit(3, 1) \n",
    "    qc.reset(range(3))\n",
    "    \n",
    "    if inp1=='1':\n",
    "        qc.x(0)\n",
    "    if inp2=='1':\n",
    "        qc.x(1)\n",
    "        \n",
    "    qc.barrier()\n",
    "    qc.ccx(0, 1, 2) \n",
    "    qc.barrier()\n",
    "    qc.measure(2, 0) \n",
    "  \n",
    "    qc_trans = transpile(qc, backend, initial_layout=layout, optimization_level=3)\n",
    "    job = backend.run(qc_trans, shots=1024)\n",
    "    print(job.job_id())\n",
    "    job_monitor(job)\n",
    "    \n",
    "    output = job.result().get_counts()\n",
    "    \n",
    "    return qc_trans, output"
   ]
  },
  {
   "cell_type": "markdown",
   "id": "c5b3ad76",
   "metadata": {},
   "source": [
    "Define a layout: mapping of virtual to physical qubits. See [transpiler documentation](https://qiskit.org/documentation/apidoc/transpiler.html)."
   ]
  },
  {
   "cell_type": "code",
   "execution_count": 28,
   "id": "dc0e9a87",
   "metadata": {},
   "outputs": [],
   "source": [
    "layout = [1,3,4]"
   ]
  },
  {
   "cell_type": "code",
   "execution_count": 32,
   "id": "abae5866",
   "metadata": {},
   "outputs": [
    {
     "name": "stdout",
     "output_type": "stream",
     "text": [
      "6373877cad241473bb111659\n",
      "Job Status: job has successfully run\n",
      "\n",
      "Probability of correct answer for inputs 0 0\n",
      "0.89\n",
      "---------------------------------\n",
      "63738e58718d112d8e631eb8\n",
      "Job Status: job has successfully run\n",
      "\n",
      "Probability of correct answer for inputs 0 1\n",
      "0.83\n",
      "---------------------------------\n",
      "637396aae0f73077669bfbb3\n",
      "Job Status: job has successfully run\n",
      "\n",
      "Probability of correct answer for inputs 1 0\n",
      "0.89\n",
      "---------------------------------\n",
      "6373a03c754e46f2304cf4d5\n",
      "Job Status: job has successfully run\n",
      "\n",
      "Probability of correct answer for inputs 1 1\n",
      "0.77\n",
      "---------------------------------\n",
      "\n",
      "\n",
      "The highest of these probabilities was 0.89\n",
      "The lowest of these probabilities was 0.77\n"
     ]
    }
   ],
   "source": [
    "output_all = []\n",
    "qc_trans_all = []\n",
    "prob_all = []\n",
    "\n",
    "worst = 1\n",
    "best = 0\n",
    "for input1 in ['0','1']:\n",
    "    for input2 in ['0','1']:\n",
    "        qc_trans, output = AND(input1, input2, backend, layout)\n",
    "        \n",
    "        output_all.append(output)\n",
    "        qc_trans_all.append(qc_trans)\n",
    "        \n",
    "        prob = output[str(int( input1=='1' and input2=='1' ))]/1024\n",
    "        prob_all.append(prob)\n",
    "        \n",
    "        print('\\nProbability of correct answer for inputs',input1,input2)\n",
    "        print('{:.2f}'.format(prob) )\n",
    "        print('---------------------------------')\n",
    "        \n",
    "        worst = min(worst, prob)\n",
    "        best = max(best, prob)\n",
    "        \n",
    "print('')\n",
    "print('\\nThe highest of these probabilities was {:.2f}'.format(best))\n",
    "print('The lowest of these probabilities was {:.2f}'.format(worst))"
   ]
  },
  {
   "cell_type": "code",
   "execution_count": 33,
   "id": "85ef0a5e",
   "metadata": {},
   "outputs": [
    {
     "name": "stdout",
     "output_type": "stream",
     "text": [
      "Transpiled AND gate circuit with input 0 0\n",
      "\n",
      "The circuit depth : 21\n",
      "# of nonlocal gates : 15\n",
      "Probability of correct answer : 0.89\n"
     ]
    },
    {
     "data": {
      "text/html": [
       "<pre style=\"word-wrap: normal;white-space: pre;background: #fff0;line-height: 1.1;font-family: &quot;Courier New&quot;,Courier,monospace\">global phase: 5π/8\n",
       "                                                                              »\n",
       "ancilla_0 -> 0 ───────────────────────────────────────────────────────────────»\n",
       "                ░                                              ┌───┐          »\n",
       "      q_0 -> 1 ─░───────────────────────────────────────■──────┤ X ├──■───────»\n",
       "                ░                                       │      └─┬─┘  │       »\n",
       "ancilla_1 -> 2 ─────────────────────────────────────────┼────────┼────┼───────»\n",
       "                ░                                     ┌─┴─┐      │  ┌─┴─┐     »\n",
       "      q_1 -> 3 ─░───────────────────────────────■─────┤ X ├──────■──┤ X ├──■──»\n",
       "                ░ ┌─────────┐┌────┐┌─────────┐┌─┴─┐┌──┴───┴───┐     └───┘┌─┴─┐»\n",
       "      q_2 -> 4 ─░─┤ Rz(π/2) ├┤ √X ├┤ Rz(π/2) ├┤ X ├┤ Rz(-π/4) ├──────────┤ X ├»\n",
       "                ░ └─────────┘└────┘└─────────┘└───┘└──────────┘          └───┘»\n",
       "          c: 1/═══════════════════════════════════════════════════════════════»\n",
       "                                                                              »\n",
       "«                                                                         »\n",
       "«ancilla_0 -> 0 ──────────────────────────────────────────────────────────»\n",
       "«                  ┌───┐        ┌───┐                      ┌───┐          »\n",
       "«      q_0 -> 1 ───┤ X ├─────■──┤ X ├───────────────────■──┤ X ├──■───────»\n",
       "«                  └─┬─┘     │  └─┬─┘                   │  └─┬─┘  │       »\n",
       "«ancilla_1 -> 2 ─────┼───────┼────┼─────────────────────┼────┼────┼───────»\n",
       "«                    │     ┌─┴─┐  │       ┌─────────┐ ┌─┴─┐  │  ┌─┴─┐     »\n",
       "«      q_1 -> 3 ─────■─────┤ X ├──■────■──┤ Rz(π/4) ├─┤ X ├──■──┤ X ├──■──»\n",
       "«               ┌─────────┐└───┘     ┌─┴─┐├─────────┴┐└───┘     └───┘┌─┴─┐»\n",
       "«      q_2 -> 4 ┤ Rz(π/4) ├──────────┤ X ├┤ Rz(-π/4) ├───────────────┤ X ├»\n",
       "«               └─────────┘          └───┘└──────────┘               └───┘»\n",
       "«          c: 1/══════════════════════════════════════════════════════════»\n",
       "«                                                                         »\n",
       "«                                                   ░    \n",
       "«ancilla_0 -> 0 ────────────────────────────────────░────\n",
       "«                  ┌───┐    ┌──────────┐   ┌───┐    ░    \n",
       "«      q_0 -> 1 ───┤ X ├────┤ Rz(-π/4) ├───┤ X ├────░────\n",
       "«                  └─┬─┘    └──────────┘   └─┬─┘    ░    \n",
       "«ancilla_1 -> 2 ─────┼───────────────────────┼──────░────\n",
       "«                    │      ┌─────────┐      │      ░    \n",
       "«      q_1 -> 3 ─────■──────┤ Rz(π/4) ├──────■──────░────\n",
       "«               ┌──────────┐└──┬────┬─┘ ┌─────────┐ ░ ┌─┐\n",
       "«      q_2 -> 4 ┤ Rz(3π/4) ├───┤ √X ├───┤ Rz(π/2) ├─░─┤M├\n",
       "«               └──────────┘   └────┘   └─────────┘ ░ └╥┘\n",
       "«          c: 1/═══════════════════════════════════════╩═\n",
       "«                                                      0 </pre>"
      ],
      "text/plain": [
       "global phase: 5π/8\n",
       "                                                                              »\n",
       "ancilla_0 -> 0 ───────────────────────────────────────────────────────────────»\n",
       "                ░                                              ┌───┐          »\n",
       "      q_0 -> 1 ─░───────────────────────────────────────■──────┤ X ├──■───────»\n",
       "                ░                                       │      └─┬─┘  │       »\n",
       "ancilla_1 -> 2 ─────────────────────────────────────────┼────────┼────┼───────»\n",
       "                ░                                     ┌─┴─┐      │  ┌─┴─┐     »\n",
       "      q_1 -> 3 ─░───────────────────────────────■─────┤ X ├──────■──┤ X ├──■──»\n",
       "                ░ ┌─────────┐┌────┐┌─────────┐┌─┴─┐┌──┴───┴───┐     └───┘┌─┴─┐»\n",
       "      q_2 -> 4 ─░─┤ Rz(π/2) ├┤ √X ├┤ Rz(π/2) ├┤ X ├┤ Rz(-π/4) ├──────────┤ X ├»\n",
       "                ░ └─────────┘└────┘└─────────┘└───┘└──────────┘          └───┘»\n",
       "          c: 1/═══════════════════════════════════════════════════════════════»\n",
       "                                                                              »\n",
       "«                                                                         »\n",
       "«ancilla_0 -> 0 ──────────────────────────────────────────────────────────»\n",
       "«                  ┌───┐        ┌───┐                      ┌───┐          »\n",
       "«      q_0 -> 1 ───┤ X ├─────■──┤ X ├───────────────────■──┤ X ├──■───────»\n",
       "«                  └─┬─┘     │  └─┬─┘                   │  └─┬─┘  │       »\n",
       "«ancilla_1 -> 2 ─────┼───────┼────┼─────────────────────┼────┼────┼───────»\n",
       "«                    │     ┌─┴─┐  │       ┌─────────┐ ┌─┴─┐  │  ┌─┴─┐     »\n",
       "«      q_1 -> 3 ─────■─────┤ X ├──■────■──┤ Rz(π/4) ├─┤ X ├──■──┤ X ├──■──»\n",
       "«               ┌─────────┐└───┘     ┌─┴─┐├─────────┴┐└───┘     └───┘┌─┴─┐»\n",
       "«      q_2 -> 4 ┤ Rz(π/4) ├──────────┤ X ├┤ Rz(-π/4) ├───────────────┤ X ├»\n",
       "«               └─────────┘          └───┘└──────────┘               └───┘»\n",
       "«          c: 1/══════════════════════════════════════════════════════════»\n",
       "«                                                                         »\n",
       "«                                                   ░    \n",
       "«ancilla_0 -> 0 ────────────────────────────────────░────\n",
       "«                  ┌───┐    ┌──────────┐   ┌───┐    ░    \n",
       "«      q_0 -> 1 ───┤ X ├────┤ Rz(-π/4) ├───┤ X ├────░────\n",
       "«                  └─┬─┘    └──────────┘   └─┬─┘    ░    \n",
       "«ancilla_1 -> 2 ─────┼───────────────────────┼──────░────\n",
       "«                    │      ┌─────────┐      │      ░    \n",
       "«      q_1 -> 3 ─────■──────┤ Rz(π/4) ├──────■──────░────\n",
       "«               ┌──────────┐└──┬────┬─┘ ┌─────────┐ ░ ┌─┐\n",
       "«      q_2 -> 4 ┤ Rz(3π/4) ├───┤ √X ├───┤ Rz(π/2) ├─░─┤M├\n",
       "«               └──────────┘   └────┘   └─────────┘ ░ └╥┘\n",
       "«          c: 1/═══════════════════════════════════════╩═\n",
       "«                                                      0 "
      ]
     },
     "execution_count": 33,
     "metadata": {},
     "output_type": "execute_result"
    }
   ],
   "source": [
    "print('Transpiled AND gate circuit with input 0 0')\n",
    "print('\\nThe circuit depth : {}'.format (qc_trans_all[0].depth()))\n",
    "print('# of nonlocal gates : {}'.format (qc_trans_all[0].num_nonlocal_gates()))\n",
    "print('Probability of correct answer : {:.2f}'.format(prob_all[0]) )\n",
    "qc_trans_all[0].draw()"
   ]
  },
  {
   "cell_type": "code",
   "execution_count": 34,
   "id": "faa6245f",
   "metadata": {},
   "outputs": [
    {
     "name": "stdout",
     "output_type": "stream",
     "text": [
      "Transpiled AND gate circuit with input 0 1\n",
      "\n",
      "The circuit depth : 22\n",
      "# of nonlocal gates : 15\n",
      "Probability of correct answer : 0.83\n"
     ]
    },
    {
     "data": {
      "text/html": [
       "<pre style=\"word-wrap: normal;white-space: pre;background: #fff0;line-height: 1.1;font-family: &quot;Courier New&quot;,Courier,monospace\">global phase: 5π/8\n",
       "                                                                              »\n",
       "ancilla_0 -> 0 ───────────────────────────────────────────────────────────────»\n",
       "                     ░                                              ┌───┐     »\n",
       "      q_0 -> 1 ──────░───────────────────────────────────────■──────┤ X ├──■──»\n",
       "                     ░                                       │      └─┬─┘  │  »\n",
       "ancilla_1 -> 2 ──────────────────────────────────────────────┼────────┼────┼──»\n",
       "               ┌───┐ ░                                     ┌─┴─┐      │  ┌─┴─┐»\n",
       "      q_1 -> 3 ┤ X ├─░───────────────────────────────■─────┤ X ├──────■──┤ X ├»\n",
       "               └───┘ ░ ┌─────────┐┌────┐┌─────────┐┌─┴─┐┌──┴───┴───┐     └───┘»\n",
       "      q_2 -> 4 ──────░─┤ Rz(π/2) ├┤ √X ├┤ Rz(π/2) ├┤ X ├┤ Rz(-π/4) ├──────────»\n",
       "                     ░ └─────────┘└────┘└─────────┘└───┘└──────────┘          »\n",
       "          c: 1/═══════════════════════════════════════════════════════════════»\n",
       "                                                                              »\n",
       "«                                                                              »\n",
       "«ancilla_0 -> 0 ───────────────────────────────────────────────────────────────»\n",
       "«                       ┌───┐        ┌───┐                      ┌───┐          »\n",
       "«      q_0 -> 1 ────────┤ X ├─────■──┤ X ├───────────────────■──┤ X ├──■───────»\n",
       "«                       └─┬─┘     │  └─┬─┘                   │  └─┬─┘  │       »\n",
       "«ancilla_1 -> 2 ──────────┼───────┼────┼─────────────────────┼────┼────┼───────»\n",
       "«                         │     ┌─┴─┐  │       ┌─────────┐ ┌─┴─┐  │  ┌─┴─┐     »\n",
       "«      q_1 -> 3 ──■───────■─────┤ X ├──■────■──┤ Rz(π/4) ├─┤ X ├──■──┤ X ├──■──»\n",
       "«               ┌─┴─┐┌─────────┐└───┘     ┌─┴─┐├─────────┴┐└───┘     └───┘┌─┴─┐»\n",
       "«      q_2 -> 4 ┤ X ├┤ Rz(π/4) ├──────────┤ X ├┤ Rz(-π/4) ├───────────────┤ X ├»\n",
       "«               └───┘└─────────┘          └───┘└──────────┘               └───┘»\n",
       "«          c: 1/═══════════════════════════════════════════════════════════════»\n",
       "«                                                                              »\n",
       "«                                                   ░    \n",
       "«ancilla_0 -> 0 ────────────────────────────────────░────\n",
       "«                  ┌───┐    ┌──────────┐   ┌───┐    ░    \n",
       "«      q_0 -> 1 ───┤ X ├────┤ Rz(-π/4) ├───┤ X ├────░────\n",
       "«                  └─┬─┘    └──────────┘   └─┬─┘    ░    \n",
       "«ancilla_1 -> 2 ─────┼───────────────────────┼──────░────\n",
       "«                    │      ┌─────────┐      │      ░    \n",
       "«      q_1 -> 3 ─────■──────┤ Rz(π/4) ├──────■──────░────\n",
       "«               ┌──────────┐└──┬────┬─┘ ┌─────────┐ ░ ┌─┐\n",
       "«      q_2 -> 4 ┤ Rz(3π/4) ├───┤ √X ├───┤ Rz(π/2) ├─░─┤M├\n",
       "«               └──────────┘   └────┘   └─────────┘ ░ └╥┘\n",
       "«          c: 1/═══════════════════════════════════════╩═\n",
       "«                                                      0 </pre>"
      ],
      "text/plain": [
       "global phase: 5π/8\n",
       "                                                                              »\n",
       "ancilla_0 -> 0 ───────────────────────────────────────────────────────────────»\n",
       "                     ░                                              ┌───┐     »\n",
       "      q_0 -> 1 ──────░───────────────────────────────────────■──────┤ X ├──■──»\n",
       "                     ░                                       │      └─┬─┘  │  »\n",
       "ancilla_1 -> 2 ──────────────────────────────────────────────┼────────┼────┼──»\n",
       "               ┌───┐ ░                                     ┌─┴─┐      │  ┌─┴─┐»\n",
       "      q_1 -> 3 ┤ X ├─░───────────────────────────────■─────┤ X ├──────■──┤ X ├»\n",
       "               └───┘ ░ ┌─────────┐┌────┐┌─────────┐┌─┴─┐┌──┴───┴───┐     └───┘»\n",
       "      q_2 -> 4 ──────░─┤ Rz(π/2) ├┤ √X ├┤ Rz(π/2) ├┤ X ├┤ Rz(-π/4) ├──────────»\n",
       "                     ░ └─────────┘└────┘└─────────┘└───┘└──────────┘          »\n",
       "          c: 1/═══════════════════════════════════════════════════════════════»\n",
       "                                                                              »\n",
       "«                                                                              »\n",
       "«ancilla_0 -> 0 ───────────────────────────────────────────────────────────────»\n",
       "«                       ┌───┐        ┌───┐                      ┌───┐          »\n",
       "«      q_0 -> 1 ────────┤ X ├─────■──┤ X ├───────────────────■──┤ X ├──■───────»\n",
       "«                       └─┬─┘     │  └─┬─┘                   │  └─┬─┘  │       »\n",
       "«ancilla_1 -> 2 ──────────┼───────┼────┼─────────────────────┼────┼────┼───────»\n",
       "«                         │     ┌─┴─┐  │       ┌─────────┐ ┌─┴─┐  │  ┌─┴─┐     »\n",
       "«      q_1 -> 3 ──■───────■─────┤ X ├──■────■──┤ Rz(π/4) ├─┤ X ├──■──┤ X ├──■──»\n",
       "«               ┌─┴─┐┌─────────┐└───┘     ┌─┴─┐├─────────┴┐└───┘     └───┘┌─┴─┐»\n",
       "«      q_2 -> 4 ┤ X ├┤ Rz(π/4) ├──────────┤ X ├┤ Rz(-π/4) ├───────────────┤ X ├»\n",
       "«               └───┘└─────────┘          └───┘└──────────┘               └───┘»\n",
       "«          c: 1/═══════════════════════════════════════════════════════════════»\n",
       "«                                                                              »\n",
       "«                                                   ░    \n",
       "«ancilla_0 -> 0 ────────────────────────────────────░────\n",
       "«                  ┌───┐    ┌──────────┐   ┌───┐    ░    \n",
       "«      q_0 -> 1 ───┤ X ├────┤ Rz(-π/4) ├───┤ X ├────░────\n",
       "«                  └─┬─┘    └──────────┘   └─┬─┘    ░    \n",
       "«ancilla_1 -> 2 ─────┼───────────────────────┼──────░────\n",
       "«                    │      ┌─────────┐      │      ░    \n",
       "«      q_1 -> 3 ─────■──────┤ Rz(π/4) ├──────■──────░────\n",
       "«               ┌──────────┐└──┬────┬─┘ ┌─────────┐ ░ ┌─┐\n",
       "«      q_2 -> 4 ┤ Rz(3π/4) ├───┤ √X ├───┤ Rz(π/2) ├─░─┤M├\n",
       "«               └──────────┘   └────┘   └─────────┘ ░ └╥┘\n",
       "«          c: 1/═══════════════════════════════════════╩═\n",
       "«                                                      0 "
      ]
     },
     "execution_count": 34,
     "metadata": {},
     "output_type": "execute_result"
    }
   ],
   "source": [
    "print('Transpiled AND gate circuit with input 0 1')\n",
    "print('\\nThe circuit depth : {}'.format (qc_trans_all[1].depth()))\n",
    "print('# of nonlocal gates : {}'.format (qc_trans_all[1].num_nonlocal_gates()))\n",
    "print('Probability of correct answer : {:.2f}'.format(prob_all[1]) )\n",
    "qc_trans_all[1].draw()"
   ]
  },
  {
   "cell_type": "code",
   "execution_count": 35,
   "id": "cfbc7c55",
   "metadata": {},
   "outputs": [
    {
     "name": "stdout",
     "output_type": "stream",
     "text": [
      "Transpiled AND gate circuit with input 1 0\n",
      "\n",
      "The circuit depth : 22\n",
      "# of nonlocal gates : 15\n",
      "Probability of correct answer : 0.89\n"
     ]
    },
    {
     "data": {
      "text/html": [
       "<pre style=\"word-wrap: normal;white-space: pre;background: #fff0;line-height: 1.1;font-family: &quot;Courier New&quot;,Courier,monospace\">global phase: 5π/8\n",
       "                                                                              »\n",
       "ancilla_0 -> 0 ───────────────────────────────────────────────────────────────»\n",
       "               ┌───┐ ░                                              ┌───┐     »\n",
       "      q_0 -> 1 ┤ X ├─░───────────────────────────────────────■──────┤ X ├──■──»\n",
       "               └───┘ ░                                       │      └─┬─┘  │  »\n",
       "ancilla_1 -> 2 ──────────────────────────────────────────────┼────────┼────┼──»\n",
       "                     ░                                     ┌─┴─┐      │  ┌─┴─┐»\n",
       "      q_1 -> 3 ──────░───────────────────────────────■─────┤ X ├──────■──┤ X ├»\n",
       "                     ░ ┌─────────┐┌────┐┌─────────┐┌─┴─┐┌──┴───┴───┐     └───┘»\n",
       "      q_2 -> 4 ──────░─┤ Rz(π/2) ├┤ √X ├┤ Rz(π/2) ├┤ X ├┤ Rz(-π/4) ├──────────»\n",
       "                     ░ └─────────┘└────┘└─────────┘└───┘└──────────┘          »\n",
       "          c: 1/═══════════════════════════════════════════════════════════════»\n",
       "                                                                              »\n",
       "«                                                                              »\n",
       "«ancilla_0 -> 0 ───────────────────────────────────────────────────────────────»\n",
       "«                       ┌───┐        ┌───┐                      ┌───┐          »\n",
       "«      q_0 -> 1 ────────┤ X ├─────■──┤ X ├───────────────────■──┤ X ├──■───────»\n",
       "«                       └─┬─┘     │  └─┬─┘                   │  └─┬─┘  │       »\n",
       "«ancilla_1 -> 2 ──────────┼───────┼────┼─────────────────────┼────┼────┼───────»\n",
       "«                         │     ┌─┴─┐  │       ┌─────────┐ ┌─┴─┐  │  ┌─┴─┐     »\n",
       "«      q_1 -> 3 ──■───────■─────┤ X ├──■────■──┤ Rz(π/4) ├─┤ X ├──■──┤ X ├──■──»\n",
       "«               ┌─┴─┐┌─────────┐└───┘     ┌─┴─┐├─────────┴┐└───┘     └───┘┌─┴─┐»\n",
       "«      q_2 -> 4 ┤ X ├┤ Rz(π/4) ├──────────┤ X ├┤ Rz(-π/4) ├───────────────┤ X ├»\n",
       "«               └───┘└─────────┘          └───┘└──────────┘               └───┘»\n",
       "«          c: 1/═══════════════════════════════════════════════════════════════»\n",
       "«                                                                              »\n",
       "«                                                   ░    \n",
       "«ancilla_0 -> 0 ────────────────────────────────────░────\n",
       "«                  ┌───┐    ┌──────────┐   ┌───┐    ░    \n",
       "«      q_0 -> 1 ───┤ X ├────┤ Rz(-π/4) ├───┤ X ├────░────\n",
       "«                  └─┬─┘    └──────────┘   └─┬─┘    ░    \n",
       "«ancilla_1 -> 2 ─────┼───────────────────────┼──────░────\n",
       "«                    │      ┌─────────┐      │      ░    \n",
       "«      q_1 -> 3 ─────■──────┤ Rz(π/4) ├──────■──────░────\n",
       "«               ┌──────────┐└──┬────┬─┘ ┌─────────┐ ░ ┌─┐\n",
       "«      q_2 -> 4 ┤ Rz(3π/4) ├───┤ √X ├───┤ Rz(π/2) ├─░─┤M├\n",
       "«               └──────────┘   └────┘   └─────────┘ ░ └╥┘\n",
       "«          c: 1/═══════════════════════════════════════╩═\n",
       "«                                                      0 </pre>"
      ],
      "text/plain": [
       "global phase: 5π/8\n",
       "                                                                              »\n",
       "ancilla_0 -> 0 ───────────────────────────────────────────────────────────────»\n",
       "               ┌───┐ ░                                              ┌───┐     »\n",
       "      q_0 -> 1 ┤ X ├─░───────────────────────────────────────■──────┤ X ├──■──»\n",
       "               └───┘ ░                                       │      └─┬─┘  │  »\n",
       "ancilla_1 -> 2 ──────────────────────────────────────────────┼────────┼────┼──»\n",
       "                     ░                                     ┌─┴─┐      │  ┌─┴─┐»\n",
       "      q_1 -> 3 ──────░───────────────────────────────■─────┤ X ├──────■──┤ X ├»\n",
       "                     ░ ┌─────────┐┌────┐┌─────────┐┌─┴─┐┌──┴───┴───┐     └───┘»\n",
       "      q_2 -> 4 ──────░─┤ Rz(π/2) ├┤ √X ├┤ Rz(π/2) ├┤ X ├┤ Rz(-π/4) ├──────────»\n",
       "                     ░ └─────────┘└────┘└─────────┘└───┘└──────────┘          »\n",
       "          c: 1/═══════════════════════════════════════════════════════════════»\n",
       "                                                                              »\n",
       "«                                                                              »\n",
       "«ancilla_0 -> 0 ───────────────────────────────────────────────────────────────»\n",
       "«                       ┌───┐        ┌───┐                      ┌───┐          »\n",
       "«      q_0 -> 1 ────────┤ X ├─────■──┤ X ├───────────────────■──┤ X ├──■───────»\n",
       "«                       └─┬─┘     │  └─┬─┘                   │  └─┬─┘  │       »\n",
       "«ancilla_1 -> 2 ──────────┼───────┼────┼─────────────────────┼────┼────┼───────»\n",
       "«                         │     ┌─┴─┐  │       ┌─────────┐ ┌─┴─┐  │  ┌─┴─┐     »\n",
       "«      q_1 -> 3 ──■───────■─────┤ X ├──■────■──┤ Rz(π/4) ├─┤ X ├──■──┤ X ├──■──»\n",
       "«               ┌─┴─┐┌─────────┐└───┘     ┌─┴─┐├─────────┴┐└───┘     └───┘┌─┴─┐»\n",
       "«      q_2 -> 4 ┤ X ├┤ Rz(π/4) ├──────────┤ X ├┤ Rz(-π/4) ├───────────────┤ X ├»\n",
       "«               └───┘└─────────┘          └───┘└──────────┘               └───┘»\n",
       "«          c: 1/═══════════════════════════════════════════════════════════════»\n",
       "«                                                                              »\n",
       "«                                                   ░    \n",
       "«ancilla_0 -> 0 ────────────────────────────────────░────\n",
       "«                  ┌───┐    ┌──────────┐   ┌───┐    ░    \n",
       "«      q_0 -> 1 ───┤ X ├────┤ Rz(-π/4) ├───┤ X ├────░────\n",
       "«                  └─┬─┘    └──────────┘   └─┬─┘    ░    \n",
       "«ancilla_1 -> 2 ─────┼───────────────────────┼──────░────\n",
       "«                    │      ┌─────────┐      │      ░    \n",
       "«      q_1 -> 3 ─────■──────┤ Rz(π/4) ├──────■──────░────\n",
       "«               ┌──────────┐└──┬────┬─┘ ┌─────────┐ ░ ┌─┐\n",
       "«      q_2 -> 4 ┤ Rz(3π/4) ├───┤ √X ├───┤ Rz(π/2) ├─░─┤M├\n",
       "«               └──────────┘   └────┘   └─────────┘ ░ └╥┘\n",
       "«          c: 1/═══════════════════════════════════════╩═\n",
       "«                                                      0 "
      ]
     },
     "execution_count": 35,
     "metadata": {},
     "output_type": "execute_result"
    }
   ],
   "source": [
    "print('Transpiled AND gate circuit with input 1 0')\n",
    "print('\\nThe circuit depth : {}'.format (qc_trans_all[2].depth()))\n",
    "print('# of nonlocal gates : {}'.format (qc_trans_all[2].num_nonlocal_gates()))\n",
    "print('Probability of correct answer : {:.2f}'.format(prob_all[2]) )\n",
    "qc_trans_all[2].draw()"
   ]
  },
  {
   "cell_type": "code",
   "execution_count": 36,
   "id": "3bdc2094",
   "metadata": {},
   "outputs": [
    {
     "name": "stdout",
     "output_type": "stream",
     "text": [
      "Transpiled AND gate circuit with input 1 1\n",
      "\n",
      "The circuit depth : 22\n",
      "# of nonlocal gates : 15\n",
      "Probability of correct answer : 0.77\n"
     ]
    },
    {
     "data": {
      "text/html": [
       "<pre style=\"word-wrap: normal;white-space: pre;background: #fff0;line-height: 1.1;font-family: &quot;Courier New&quot;,Courier,monospace\">global phase: 5π/8\n",
       "                                                                              »\n",
       "ancilla_0 -> 0 ───────────────────────────────────────────────────────────────»\n",
       "               ┌───┐ ░                                              ┌───┐     »\n",
       "      q_0 -> 1 ┤ X ├─░───────────────────────────────────────■──────┤ X ├──■──»\n",
       "               └───┘ ░                                       │      └─┬─┘  │  »\n",
       "ancilla_1 -> 2 ──────────────────────────────────────────────┼────────┼────┼──»\n",
       "               ┌───┐ ░                                     ┌─┴─┐      │  ┌─┴─┐»\n",
       "      q_1 -> 3 ┤ X ├─░───────────────────────────────■─────┤ X ├──────■──┤ X ├»\n",
       "               └───┘ ░ ┌─────────┐┌────┐┌─────────┐┌─┴─┐┌──┴───┴───┐     └───┘»\n",
       "      q_2 -> 4 ──────░─┤ Rz(π/2) ├┤ √X ├┤ Rz(π/2) ├┤ X ├┤ Rz(-π/4) ├──────────»\n",
       "                     ░ └─────────┘└────┘└─────────┘└───┘└──────────┘          »\n",
       "          c: 1/═══════════════════════════════════════════════════════════════»\n",
       "                                                                              »\n",
       "«                                                                              »\n",
       "«ancilla_0 -> 0 ───────────────────────────────────────────────────────────────»\n",
       "«                       ┌───┐        ┌───┐                      ┌───┐          »\n",
       "«      q_0 -> 1 ────────┤ X ├─────■──┤ X ├───────────────────■──┤ X ├──■───────»\n",
       "«                       └─┬─┘     │  └─┬─┘                   │  └─┬─┘  │       »\n",
       "«ancilla_1 -> 2 ──────────┼───────┼────┼─────────────────────┼────┼────┼───────»\n",
       "«                         │     ┌─┴─┐  │       ┌─────────┐ ┌─┴─┐  │  ┌─┴─┐     »\n",
       "«      q_1 -> 3 ──■───────■─────┤ X ├──■────■──┤ Rz(π/4) ├─┤ X ├──■──┤ X ├──■──»\n",
       "«               ┌─┴─┐┌─────────┐└───┘     ┌─┴─┐├─────────┴┐└───┘     └───┘┌─┴─┐»\n",
       "«      q_2 -> 4 ┤ X ├┤ Rz(π/4) ├──────────┤ X ├┤ Rz(-π/4) ├───────────────┤ X ├»\n",
       "«               └───┘└─────────┘          └───┘└──────────┘               └───┘»\n",
       "«          c: 1/═══════════════════════════════════════════════════════════════»\n",
       "«                                                                              »\n",
       "«                                                   ░    \n",
       "«ancilla_0 -> 0 ────────────────────────────────────░────\n",
       "«                  ┌───┐    ┌──────────┐   ┌───┐    ░    \n",
       "«      q_0 -> 1 ───┤ X ├────┤ Rz(-π/4) ├───┤ X ├────░────\n",
       "«                  └─┬─┘    └──────────┘   └─┬─┘    ░    \n",
       "«ancilla_1 -> 2 ─────┼───────────────────────┼──────░────\n",
       "«                    │      ┌─────────┐      │      ░    \n",
       "«      q_1 -> 3 ─────■──────┤ Rz(π/4) ├──────■──────░────\n",
       "«               ┌──────────┐└──┬────┬─┘ ┌─────────┐ ░ ┌─┐\n",
       "«      q_2 -> 4 ┤ Rz(3π/4) ├───┤ √X ├───┤ Rz(π/2) ├─░─┤M├\n",
       "«               └──────────┘   └────┘   └─────────┘ ░ └╥┘\n",
       "«          c: 1/═══════════════════════════════════════╩═\n",
       "«                                                      0 </pre>"
      ],
      "text/plain": [
       "global phase: 5π/8\n",
       "                                                                              »\n",
       "ancilla_0 -> 0 ───────────────────────────────────────────────────────────────»\n",
       "               ┌───┐ ░                                              ┌───┐     »\n",
       "      q_0 -> 1 ┤ X ├─░───────────────────────────────────────■──────┤ X ├──■──»\n",
       "               └───┘ ░                                       │      └─┬─┘  │  »\n",
       "ancilla_1 -> 2 ──────────────────────────────────────────────┼────────┼────┼──»\n",
       "               ┌───┐ ░                                     ┌─┴─┐      │  ┌─┴─┐»\n",
       "      q_1 -> 3 ┤ X ├─░───────────────────────────────■─────┤ X ├──────■──┤ X ├»\n",
       "               └───┘ ░ ┌─────────┐┌────┐┌─────────┐┌─┴─┐┌──┴───┴───┐     └───┘»\n",
       "      q_2 -> 4 ──────░─┤ Rz(π/2) ├┤ √X ├┤ Rz(π/2) ├┤ X ├┤ Rz(-π/4) ├──────────»\n",
       "                     ░ └─────────┘└────┘└─────────┘└───┘└──────────┘          »\n",
       "          c: 1/═══════════════════════════════════════════════════════════════»\n",
       "                                                                              »\n",
       "«                                                                              »\n",
       "«ancilla_0 -> 0 ───────────────────────────────────────────────────────────────»\n",
       "«                       ┌───┐        ┌───┐                      ┌───┐          »\n",
       "«      q_0 -> 1 ────────┤ X ├─────■──┤ X ├───────────────────■──┤ X ├──■───────»\n",
       "«                       └─┬─┘     │  └─┬─┘                   │  └─┬─┘  │       »\n",
       "«ancilla_1 -> 2 ──────────┼───────┼────┼─────────────────────┼────┼────┼───────»\n",
       "«                         │     ┌─┴─┐  │       ┌─────────┐ ┌─┴─┐  │  ┌─┴─┐     »\n",
       "«      q_1 -> 3 ──■───────■─────┤ X ├──■────■──┤ Rz(π/4) ├─┤ X ├──■──┤ X ├──■──»\n",
       "«               ┌─┴─┐┌─────────┐└───┘     ┌─┴─┐├─────────┴┐└───┘     └───┘┌─┴─┐»\n",
       "«      q_2 -> 4 ┤ X ├┤ Rz(π/4) ├──────────┤ X ├┤ Rz(-π/4) ├───────────────┤ X ├»\n",
       "«               └───┘└─────────┘          └───┘└──────────┘               └───┘»\n",
       "«          c: 1/═══════════════════════════════════════════════════════════════»\n",
       "«                                                                              »\n",
       "«                                                   ░    \n",
       "«ancilla_0 -> 0 ────────────────────────────────────░────\n",
       "«                  ┌───┐    ┌──────────┐   ┌───┐    ░    \n",
       "«      q_0 -> 1 ───┤ X ├────┤ Rz(-π/4) ├───┤ X ├────░────\n",
       "«                  └─┬─┘    └──────────┘   └─┬─┘    ░    \n",
       "«ancilla_1 -> 2 ─────┼───────────────────────┼──────░────\n",
       "«                    │      ┌─────────┐      │      ░    \n",
       "«      q_1 -> 3 ─────■──────┤ Rz(π/4) ├──────■──────░────\n",
       "«               ┌──────────┐└──┬────┬─┘ ┌─────────┐ ░ ┌─┐\n",
       "«      q_2 -> 4 ┤ Rz(3π/4) ├───┤ √X ├───┤ Rz(π/2) ├─░─┤M├\n",
       "«               └──────────┘   └────┘   └─────────┘ ░ └╥┘\n",
       "«          c: 1/═══════════════════════════════════════╩═\n",
       "«                                                      0 "
      ]
     },
     "execution_count": 36,
     "metadata": {},
     "output_type": "execute_result"
    }
   ],
   "source": [
    "print('Transpiled AND gate circuit with input 1 1')\n",
    "print('\\nThe circuit depth : {}'.format (qc_trans_all[3].depth()))\n",
    "print('# of nonlocal gates : {}'.format (qc_trans_all[3].num_nonlocal_gates()))\n",
    "print('Probability of correct answer : {:.2f}'.format(prob_all[3]) )\n",
    "qc_trans_all[3].draw()"
   ]
  },
  {
   "cell_type": "code",
   "execution_count": null,
   "id": "dde19c0f",
   "metadata": {},
   "outputs": [],
   "source": []
  }
 ],
 "metadata": {
  "kernelspec": {
   "display_name": "Python 3 (ipykernel)",
   "language": "python",
   "name": "python3"
  },
  "language_info": {
   "codemirror_mode": {
    "name": "ipython",
    "version": 3
   },
   "file_extension": ".py",
   "mimetype": "text/x-python",
   "name": "python",
   "nbconvert_exporter": "python",
   "pygments_lexer": "ipython3",
   "version": "3.10.6"
  }
 },
 "nbformat": 4,
 "nbformat_minor": 5
}
