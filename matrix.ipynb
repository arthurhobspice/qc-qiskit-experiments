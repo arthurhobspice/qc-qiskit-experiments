{
 "cells": [
  {
   "cell_type": "markdown",
   "id": "e2e49aad",
   "metadata": {},
   "source": [
    "# Some experiments to understand the gates as matrix transformations"
   ]
  },
  {
   "cell_type": "markdown",
   "id": "e769c610",
   "metadata": {},
   "source": [
    "Reference: [Multi-qubit gates](https://qiskit.org/documentation/tutorials/circuits/3_summary_of_quantum_operations.html#Multi-Qubit-Gates)\n",
    "\n",
    "Start with some linear algebra..."
   ]
  },
  {
   "cell_type": "code",
   "execution_count": 56,
   "id": "824c888e",
   "metadata": {},
   "outputs": [
    {
     "name": "stdout",
     "output_type": "stream",
     "text": [
      "[[ 0.70710678  0.          0.70710678  0.        ]\n",
      " [ 0.          0.70710678  0.          0.70710678]\n",
      " [ 0.          0.70710678  0.         -0.70710678]\n",
      " [ 0.70710678  0.         -0.70710678  0.        ]]\n",
      "\n",
      "\n",
      "[[ 0.70710678  0.          0.70710678  0.        ]\n",
      " [ 0.          0.70710678  0.          0.70710678]\n",
      " [ 0.          0.70710678  0.         -0.70710678]\n",
      " [-0.70710678  0.          0.70710678  0.        ]]\n",
      "\n",
      "\n",
      "[0.70710678 0.         0.         0.70710678]\n",
      "[ 0.70710678  0.          0.         -0.70710678]\n"
     ]
    }
   ],
   "source": [
    "import numpy as np\n",
    "from numpy import linalg as la\n",
    "from math import *\n",
    "\n",
    "# Encodes a quantum state: vector of amplitudes of |00>,|01>,|10> and |11>\n",
    "q = np.array([1,0,0,0])\n",
    "\n",
    "# CNOT = CX: only if the first bit (MSB) is 1, the second (LSB) is inverted - cx(1,0)\n",
    "CX = np.array([[1,0,0,0],[0,1,0,0],[0,0,0,1],[0,0,1,0]])\n",
    "\n",
    "# CZ matrix looks the same regardless of whether MSB or LSB is the control qubit:\n",
    "CZ = np.array([[1,0,0,0],[0,1,0,0],[0,0,1,0],[0,0,0,-1]])\n",
    "\n",
    "# Hadamard, this is the Kronecker product of the two-dim. matrices H and E (unity)\n",
    "#H = 1/sqrt(2)*np.array([[1,0,1,0],[0,1,0,1],[1,0,-1,0],[0,1,0,-1]])\n",
    "H = 1/sqrt(2)*np.kron([[1,1],[1,-1]],[[1,0],[0,1]])\n",
    "\n",
    "QC1 = np.matmul(CX,H)\n",
    "QC2 = np.matmul(CZ,QC1)\n",
    "\n",
    "q1 = np.matmul(QC1,q)\n",
    "q2 = np.matmul(QC2,q)\n",
    "\n",
    "print(QC1)\n",
    "print(\"\\n\")\n",
    "print(QC2)\n",
    "print(\"\\n\")\n",
    "print(q1)\n",
    "print(q2)"
   ]
  },
  {
   "cell_type": "markdown",
   "id": "9d1f23e5",
   "metadata": {},
   "source": [
    "Qiskit's Aer simulator can be used to either simulate a quantum circuit corresponding to some unitary matrix operation and plot the results, or to show the state vectors resulting from the application of certain gates to the QC."
   ]
  },
  {
   "cell_type": "code",
   "execution_count": 77,
   "id": "daeb2e80",
   "metadata": {},
   "outputs": [
    {
     "data": {
      "text/plain": [
       "{'counts': {'0x0': 512, '0x3': 512},\n",
       " '2': Statevector([0.        +0.j, 0.70710678+0.j, 0.70710678+0.j,\n",
       "              0.        +0.j],\n",
       "             dims=(2, 2)),\n",
       " '3': Statevector([0.70710678+0.j, 0.        +0.j, 0.        +0.j,\n",
       "              0.70710678+0.j],\n",
       "             dims=(2, 2)),\n",
       " '1': Statevector([0.70710678+0.j, 0.        +0.j, 0.        +0.j,\n",
       "              0.70710678+0.j],\n",
       "             dims=(2, 2))}"
      ]
     },
     "execution_count": 77,
     "metadata": {},
     "output_type": "execute_result"
    }
   ],
   "source": [
    "from qiskit import QuantumCircuit\n",
    "from qiskit import Aer, transpile\n",
    "from qiskit.tools.visualization import plot_histogram, plot_state_city\n",
    "\n",
    "qc = QuantumCircuit(2)\n",
    "# Prepare |00>, |01>, |10> or |11>:\n",
    "#qc.x(0)\n",
    "#qc.x(1)\n",
    "# Prepare Bell state - e.g. from |00> we'll get a \"Phi+\"\n",
    "qc.h(1)\n",
    "qc.cx(1,0)\n",
    "# save_statevector should be applied before measurements, we don't want the collapsed post-measurement state\n",
    "qc.save_statevector(label=\"1\")\n",
    "qc.x(0)\n",
    "qc.save_statevector(label=\"2\")\n",
    "qc.x(0)\n",
    "qc.save_statevector(label=\"3\")\n",
    "\n",
    "qc.measure_all()\n",
    "\n",
    "simulator = Aer.get_backend('aer_simulator')\n",
    "qc = transpile(qc, simulator)\n",
    "\n",
    "result = simulator.run(qc).result()\n",
    "counts = result.get_counts(qc)\n",
    "#plot_histogram(counts)\n",
    "\n",
    "data = result.data(0)\n",
    "data"
   ]
  },
  {
   "cell_type": "markdown",
   "id": "d3f3401e",
   "metadata": {},
   "source": [
    "Another nice utility is the `save_unitary()` method of the Aer simulator that allows to display the matrix corresponding to some circuit. It only works if there are no measurement or reset steps in the QC. You can then compare the results with the matrix multiplications above."
   ]
  },
  {
   "cell_type": "code",
   "execution_count": 79,
   "id": "eb113655",
   "metadata": {},
   "outputs": [
    {
     "name": "stdout",
     "output_type": "stream",
     "text": [
      "Circuit unitary:\n",
      " [[ 0.70711+0.j  0.     +0.j  0.70711-0.j  0.     +0.j]\n",
      " [ 0.     +0.j  0.70711+0.j  0.     +0.j  0.70711-0.j]\n",
      " [ 0.     +0.j  0.70711+0.j  0.     +0.j -0.70711+0.j]\n",
      " [-0.70711+0.j -0.     +0.j  0.70711-0.j -0.     +0.j]]\n"
     ]
    },
    {
     "name": "stderr",
     "output_type": "stream",
     "text": [
      "/tmp/ipykernel_7994/937813038.py:14: DeprecationWarning: The return type of saved unitaries has been changed from a `numpy.ndarray` to a `qiskit.quantum_info.Operator` as of qiskit-aer 0.10. Accessing numpy array attributes is deprecated and will result in an error in a future release. To continue using saved result objects as arrays you can explicitly cast them using  `np.asarray(object)`.\n",
      "  print(\"Circuit unitary:\\n\", unitary.round(5))\n"
     ]
    }
   ],
   "source": [
    "circ = QuantumCircuit(2)\n",
    "circ.h(1)\n",
    "circ.cx(1,0)\n",
    "circ.cz(1,0)\n",
    "circ.save_unitary()\n",
    "\n",
    "# Transpile for simulator\n",
    "simulator = Aer.get_backend('aer_simulator')\n",
    "circ = transpile(circ, simulator)\n",
    "\n",
    "# Run and get unitary\n",
    "result = simulator.run(circ).result()\n",
    "unitary = result.get_unitary(circ)\n",
    "print(\"Circuit unitary:\\n\", unitary.round(5))"
   ]
  },
  {
   "cell_type": "code",
   "execution_count": null,
   "id": "c5f22aa9",
   "metadata": {},
   "outputs": [],
   "source": []
  }
 ],
 "metadata": {
  "kernelspec": {
   "display_name": "Python 3 (ipykernel)",
   "language": "python",
   "name": "python3"
  },
  "language_info": {
   "codemirror_mode": {
    "name": "ipython",
    "version": 3
   },
   "file_extension": ".py",
   "mimetype": "text/x-python",
   "name": "python",
   "nbconvert_exporter": "python",
   "pygments_lexer": "ipython3",
   "version": "3.10.7"
  }
 },
 "nbformat": 4,
 "nbformat_minor": 5
}
