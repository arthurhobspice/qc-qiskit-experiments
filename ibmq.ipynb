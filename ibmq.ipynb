{
 "cells": [
  {
   "cell_type": "markdown",
   "id": "e4bd3970",
   "metadata": {},
   "source": [
    "IBMQ (IBM Quantum Provider) is deprecated."
   ]
  },
  {
   "cell_type": "code",
   "execution_count": null,
   "id": "39152302-94c1-496f-ad44-9390561cbf73",
   "metadata": {},
   "outputs": [],
   "source": [
    "from qiskit import QuantumCircuit\n",
    "qc = QuantumCircuit(3, 3)\n",
    "# measure qubits 0, 1 & 2 to classical bits 0, 1 & 2, respectively\n",
    "qc.measure([0,1,2], [0,1,2])\n",
    "qc.draw()"
   ]
  },
  {
   "cell_type": "code",
   "execution_count": 17,
   "id": "883f6724-436b-4e8f-9cfc-2201ea999032",
   "metadata": {},
   "outputs": [],
   "source": [
    "# prepare your circuit to run\n",
    "from qiskit import IBMQ\n",
    "\n",
    "# Get the API token in https://quantum-computing.ibm.com/\n",
    "#IBMQ.save_account(\"6960a2b4e097379073ff3adca0ba12046ca3f87c5dfb1f3c7a3d3bf6c290105e6455b863a484b7fe9cc3ae2710764fb5a55673498c0973f41a8c081544a5a2cd\",overwrite=True)"
   ]
  },
  {
   "cell_type": "markdown",
   "id": "cf9129af-ba76-4746-abbe-eaf78f080aae",
   "metadata": {},
   "source": [
    "save_account stores the API token to disk, hence it must be done only once after rotating the token.\n",
    "\n",
    "See https://github.com/Qiskit/qiskit-ibmq-provider for more details."
   ]
  },
  {
   "cell_type": "code",
   "execution_count": 23,
   "id": "a07c28ca-114a-4386-b534-08312e608ea0",
   "metadata": {},
   "outputs": [],
   "source": [
    "provider = IBMQ.load_account()"
   ]
  },
  {
   "cell_type": "markdown",
   "id": "00f0050b-3c39-4ba3-8c8a-61c19df4c392",
   "metadata": {},
   "source": [
    "load_account must be done once at the beginning of a new session. Otherwise we'll get a warning that the existing account in the session will be replaced.\n",
    "\n",
    "Get all available backends for this session:"
   ]
  },
  {
   "cell_type": "code",
   "execution_count": 24,
   "id": "433f99cb-387d-432f-8926-126d417355fe",
   "metadata": {},
   "outputs": [
    {
     "data": {
      "text/plain": [
       "[<IBMQSimulator('ibmq_qasm_simulator') from IBMQ(hub='ibm-q', group='open', project='main')>,\n",
       " <IBMQBackend('ibmq_lima') from IBMQ(hub='ibm-q', group='open', project='main')>,\n",
       " <IBMQBackend('ibmq_belem') from IBMQ(hub='ibm-q', group='open', project='main')>,\n",
       " <IBMQBackend('ibmq_quito') from IBMQ(hub='ibm-q', group='open', project='main')>,\n",
       " <IBMQSimulator('simulator_statevector') from IBMQ(hub='ibm-q', group='open', project='main')>,\n",
       " <IBMQSimulator('simulator_mps') from IBMQ(hub='ibm-q', group='open', project='main')>,\n",
       " <IBMQSimulator('simulator_extended_stabilizer') from IBMQ(hub='ibm-q', group='open', project='main')>,\n",
       " <IBMQSimulator('simulator_stabilizer') from IBMQ(hub='ibm-q', group='open', project='main')>,\n",
       " <IBMQBackend('ibmq_manila') from IBMQ(hub='ibm-q', group='open', project='main')>,\n",
       " <IBMQBackend('ibm_nairobi') from IBMQ(hub='ibm-q', group='open', project='main')>,\n",
       " <IBMQBackend('ibm_oslo') from IBMQ(hub='ibm-q', group='open', project='main')>]"
      ]
     },
     "execution_count": 24,
     "metadata": {},
     "output_type": "execute_result"
    }
   ],
   "source": [
    "provider.backends()"
   ]
  },
  {
   "cell_type": "code",
   "execution_count": 26,
   "id": "98eb30b1-3693-4f6c-85d0-67003ad12296",
   "metadata": {},
   "outputs": [
    {
     "data": {
      "text/html": [
       "<pre style=\"word-wrap: normal;white-space: pre;background: #fff0;line-height: 1.1;font-family: &quot;Courier New&quot;,Courier,monospace\">               ┌─┐      \n",
       "      q_0 -> 0 ┤M├──────\n",
       "               └╥┘┌─┐   \n",
       "      q_1 -> 1 ─╫─┤M├───\n",
       "                ║ └╥┘┌─┐\n",
       "      q_2 -> 2 ─╫──╫─┤M├\n",
       "                ║  ║ └╥┘\n",
       "ancilla_0 -> 3 ─╫──╫──╫─\n",
       "                ║  ║  ║ \n",
       "ancilla_1 -> 4 ─╫──╫──╫─\n",
       "                ║  ║  ║ \n",
       "          c: 3/═╩══╩══╩═\n",
       "                0  1  2 </pre>"
      ],
      "text/plain": [
       "               ┌─┐      \n",
       "      q_0 -> 0 ┤M├──────\n",
       "               └╥┘┌─┐   \n",
       "      q_1 -> 1 ─╫─┤M├───\n",
       "                ║ └╥┘┌─┐\n",
       "      q_2 -> 2 ─╫──╫─┤M├\n",
       "                ║  ║ └╥┘\n",
       "ancilla_0 -> 3 ─╫──╫──╫─\n",
       "                ║  ║  ║ \n",
       "ancilla_1 -> 4 ─╫──╫──╫─\n",
       "                ║  ║  ║ \n",
       "          c: 3/═╩══╩══╩═\n",
       "                0  1  2 "
      ]
     },
     "execution_count": 26,
     "metadata": {},
     "output_type": "execute_result"
    }
   ],
   "source": [
    "backend = provider.get_backend('ibmq_quito')\n",
    "\n",
    "optimized_circuit = qiskit.transpile(qc, backend)\n",
    "optimized_circuit.draw()"
   ]
  },
  {
   "cell_type": "code",
   "execution_count": 27,
   "id": "b44bccd7-6c8e-4392-b80c-64197f971846",
   "metadata": {},
   "outputs": [
    {
     "ename": "IBMQJobFailureError",
     "evalue": "'Unable to retrieve result for job 62e14292d8236deceb172301. Job has failed: Internal Error. Error code: 9999.'",
     "output_type": "error",
     "traceback": [
      "\u001b[0;31m---------------------------------------------------------------------------\u001b[0m",
      "\u001b[0;31mIBMQJobFailureError\u001b[0m                       Traceback (most recent call last)",
      "Input \u001b[0;32mIn [27]\u001b[0m, in \u001b[0;36m<cell line: 4>\u001b[0;34m()\u001b[0m\n\u001b[1;32m      2\u001b[0m job \u001b[38;5;241m=\u001b[39m backend\u001b[38;5;241m.\u001b[39mrun(optimized_circuit)\n\u001b[1;32m      3\u001b[0m retrieved_job \u001b[38;5;241m=\u001b[39m backend\u001b[38;5;241m.\u001b[39mretrieve_job(job\u001b[38;5;241m.\u001b[39mjob_id())\n\u001b[0;32m----> 4\u001b[0m result \u001b[38;5;241m=\u001b[39m \u001b[43mretrieved_job\u001b[49m\u001b[38;5;241;43m.\u001b[39;49m\u001b[43mresult\u001b[49m\u001b[43m(\u001b[49m\u001b[43m)\u001b[49m\n\u001b[1;32m      5\u001b[0m \u001b[38;5;28mprint\u001b[39m(result\u001b[38;5;241m.\u001b[39mget_counts())\n",
      "File \u001b[0;32m~/.local/lib/python3.10/site-packages/qiskit/providers/ibmq/job/ibmqjob.py:290\u001b[0m, in \u001b[0;36mIBMQJob.result\u001b[0;34m(self, timeout, wait, partial, refresh)\u001b[0m\n\u001b[1;32m    288\u001b[0m         \u001b[38;5;28;01melse\u001b[39;00m:\n\u001b[1;32m    289\u001b[0m             error_message \u001b[38;5;241m=\u001b[39m \u001b[38;5;124m\"\u001b[39m\u001b[38;5;124m: \u001b[39m\u001b[38;5;124m\"\u001b[39m \u001b[38;5;241m+\u001b[39m error_message\n\u001b[0;32m--> 290\u001b[0m         \u001b[38;5;28;01mraise\u001b[39;00m IBMQJobFailureError(\n\u001b[1;32m    291\u001b[0m             \u001b[38;5;124m'\u001b[39m\u001b[38;5;124mUnable to retrieve result for job \u001b[39m\u001b[38;5;132;01m{}\u001b[39;00m\u001b[38;5;124m. Job has failed\u001b[39m\u001b[38;5;132;01m{}\u001b[39;00m\u001b[38;5;124m'\u001b[39m\u001b[38;5;241m.\u001b[39mformat(\n\u001b[1;32m    292\u001b[0m                 \u001b[38;5;28mself\u001b[39m\u001b[38;5;241m.\u001b[39mjob_id(), error_message))\n\u001b[1;32m    293\u001b[0m \u001b[38;5;28;01melse\u001b[39;00m:\n\u001b[1;32m    294\u001b[0m     \u001b[38;5;28mself\u001b[39m\u001b[38;5;241m.\u001b[39m_retrieve_result(refresh\u001b[38;5;241m=\u001b[39mrefresh)\n",
      "\u001b[0;31mIBMQJobFailureError\u001b[0m: 'Unable to retrieve result for job 62e14292d8236deceb172301. Job has failed: Internal Error. Error code: 9999.'"
     ]
    }
   ],
   "source": [
    "# run in real hardware\n",
    "job = backend.run(optimized_circuit)\n",
    "retrieved_job = backend.retrieve_job(job.job_id())\n",
    "result = retrieved_job.result()\n",
    "print(result.get_counts())"
   ]
  },
  {
   "cell_type": "code",
   "execution_count": null,
   "id": "c8fb2dad-73c7-4387-bcac-3245d645aa3c",
   "metadata": {},
   "outputs": [],
   "source": []
  }
 ],
 "metadata": {
  "kernelspec": {
   "display_name": "Python 3 (ipykernel)",
   "language": "python",
   "name": "python3"
  },
  "language_info": {
   "codemirror_mode": {
    "name": "ipython",
    "version": 3
   },
   "file_extension": ".py",
   "mimetype": "text/x-python",
   "name": "python",
   "nbconvert_exporter": "python",
   "pygments_lexer": "ipython3",
   "version": "3.10.6"
  }
 },
 "nbformat": 4,
 "nbformat_minor": 5
}
