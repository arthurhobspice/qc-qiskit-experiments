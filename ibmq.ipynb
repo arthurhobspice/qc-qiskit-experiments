{
 "cells": [
  {
   "cell_type": "markdown",
   "id": "e4bd3970",
   "metadata": {},
   "source": [
    "IBMQ (IBM Quantum Provider) is deprecated."
   ]
  },
  {
   "cell_type": "code",
   "execution_count": 1,
   "id": "39152302-94c1-496f-ad44-9390561cbf73",
   "metadata": {},
   "outputs": [
    {
     "data": {
      "text/html": [
       "<pre style=\"word-wrap: normal;white-space: pre;background: #fff0;line-height: 1.1;font-family: &quot;Courier New&quot;,Courier,monospace\">     ┌───┐┌─┐      \n",
       "q_0: ┤ H ├┤M├──────\n",
       "     ├───┤└╥┘┌─┐   \n",
       "q_1: ┤ H ├─╫─┤M├───\n",
       "     ├───┤ ║ └╥┘┌─┐\n",
       "q_2: ┤ H ├─╫──╫─┤M├\n",
       "     └───┘ ║  ║ └╥┘\n",
       "c: 3/══════╩══╩══╩═\n",
       "           0  1  2 </pre>"
      ],
      "text/plain": [
       "     ┌───┐┌─┐      \n",
       "q_0: ┤ H ├┤M├──────\n",
       "     ├───┤└╥┘┌─┐   \n",
       "q_1: ┤ H ├─╫─┤M├───\n",
       "     ├───┤ ║ └╥┘┌─┐\n",
       "q_2: ┤ H ├─╫──╫─┤M├\n",
       "     └───┘ ║  ║ └╥┘\n",
       "c: 3/══════╩══╩══╩═\n",
       "           0  1  2 "
      ]
     },
     "execution_count": 1,
     "metadata": {},
     "output_type": "execute_result"
    }
   ],
   "source": [
    "from qiskit import IBMQ\n",
    "from qiskit.providers.ibmq import least_busy\n",
    "from qiskit import QuantumCircuit, transpile\n",
    "\n",
    "qc = QuantumCircuit(3, 3)\n",
    "qc.h([0,1,2])\n",
    "\n",
    "qc.measure([0,1,2], [0,1,2])\n",
    "qc.draw()"
   ]
  },
  {
   "cell_type": "code",
   "execution_count": 12,
   "id": "883f6724-436b-4e8f-9cfc-2201ea999032",
   "metadata": {},
   "outputs": [],
   "source": [
    "# Get the API token in https://quantum-computing.ibm.com/\n",
    "#IBMQ.save_account(\"token\",overwrite=True)\n",
    "\n",
    "if not IBMQ.active_account():\n",
    "    provider = IBMQ.load_account()"
   ]
  },
  {
   "cell_type": "markdown",
   "id": "cf9129af-ba76-4746-abbe-eaf78f080aae",
   "metadata": {},
   "source": [
    "save_account stores the API token to disk, hence it must be done only once after rotating the token. See https://github.com/Qiskit/qiskit-ibmq-provider for more details.\n",
    "\n",
    "load_account must be done once at the beginning of a new session. Otherwise we'll get a warning that the existing account in the session will be replaced. We combine the call with a check if the account is already active in the session.\n",
    "\n",
    "Get all available backends for this session:"
   ]
  },
  {
   "cell_type": "code",
   "execution_count": 13,
   "id": "433f99cb-387d-432f-8926-126d417355fe",
   "metadata": {},
   "outputs": [
    {
     "data": {
      "text/plain": [
       "[<IBMQSimulator('ibmq_qasm_simulator') from IBMQ(hub='ibm-q', group='open', project='main')>,\n",
       " <IBMQBackend('ibmq_lima') from IBMQ(hub='ibm-q', group='open', project='main')>,\n",
       " <IBMQBackend('ibmq_belem') from IBMQ(hub='ibm-q', group='open', project='main')>,\n",
       " <IBMQBackend('ibmq_quito') from IBMQ(hub='ibm-q', group='open', project='main')>,\n",
       " <IBMQSimulator('simulator_statevector') from IBMQ(hub='ibm-q', group='open', project='main')>,\n",
       " <IBMQSimulator('simulator_mps') from IBMQ(hub='ibm-q', group='open', project='main')>,\n",
       " <IBMQSimulator('simulator_extended_stabilizer') from IBMQ(hub='ibm-q', group='open', project='main')>,\n",
       " <IBMQSimulator('simulator_stabilizer') from IBMQ(hub='ibm-q', group='open', project='main')>,\n",
       " <IBMQBackend('ibmq_manila') from IBMQ(hub='ibm-q', group='open', project='main')>,\n",
       " <IBMQBackend('ibm_nairobi') from IBMQ(hub='ibm-q', group='open', project='main')>,\n",
       " <IBMQBackend('ibm_oslo') from IBMQ(hub='ibm-q', group='open', project='main')>]"
      ]
     },
     "execution_count": 13,
     "metadata": {},
     "output_type": "execute_result"
    }
   ],
   "source": [
    "provider.backends()"
   ]
  },
  {
   "cell_type": "code",
   "execution_count": 18,
   "id": "98eb30b1-3693-4f6c-85d0-67003ad12296",
   "metadata": {},
   "outputs": [
    {
     "name": "stdout",
     "output_type": "stream",
     "text": [
      "Least busy backend: ibmq_belem\n"
     ]
    }
   ],
   "source": [
    "# Select a backend (real QC hardware)\n",
    "\n",
    "#backend = provider.get_backend('ibmq_quito')\n",
    "\n",
    "backend = least_busy(provider.backends(simulator=False))\n",
    "print(\"Least busy backend:\", backend.name())"
   ]
  },
  {
   "cell_type": "code",
   "execution_count": 19,
   "id": "41a252ed",
   "metadata": {},
   "outputs": [
    {
     "data": {
      "text/html": [
       "<pre style=\"word-wrap: normal;white-space: pre;background: #fff0;line-height: 1.1;font-family: &quot;Courier New&quot;,Courier,monospace\">global phase: 3π/4\n",
       "               ┌─────────┐┌────┐┌─────────┐┌─┐      \n",
       "      q_0 -> 0 ┤ Rz(π/2) ├┤ √X ├┤ Rz(π/2) ├┤M├──────\n",
       "               ├─────────┤├────┤├─────────┤└╥┘┌─┐   \n",
       "      q_1 -> 1 ┤ Rz(π/2) ├┤ √X ├┤ Rz(π/2) ├─╫─┤M├───\n",
       "               ├─────────┤├────┤├─────────┤ ║ └╥┘┌─┐\n",
       "      q_2 -> 2 ┤ Rz(π/2) ├┤ √X ├┤ Rz(π/2) ├─╫──╫─┤M├\n",
       "               └─────────┘└────┘└─────────┘ ║  ║ └╥┘\n",
       "ancilla_0 -> 3 ─────────────────────────────╫──╫──╫─\n",
       "                                            ║  ║  ║ \n",
       "ancilla_1 -> 4 ─────────────────────────────╫──╫──╫─\n",
       "                                            ║  ║  ║ \n",
       "          c: 3/═════════════════════════════╩══╩══╩═\n",
       "                                            0  1  2 </pre>"
      ],
      "text/plain": [
       "global phase: 3π/4\n",
       "               ┌─────────┐┌────┐┌─────────┐┌─┐      \n",
       "      q_0 -> 0 ┤ Rz(π/2) ├┤ √X ├┤ Rz(π/2) ├┤M├──────\n",
       "               ├─────────┤├────┤├─────────┤└╥┘┌─┐   \n",
       "      q_1 -> 1 ┤ Rz(π/2) ├┤ √X ├┤ Rz(π/2) ├─╫─┤M├───\n",
       "               ├─────────┤├────┤├─────────┤ ║ └╥┘┌─┐\n",
       "      q_2 -> 2 ┤ Rz(π/2) ├┤ √X ├┤ Rz(π/2) ├─╫──╫─┤M├\n",
       "               └─────────┘└────┘└─────────┘ ║  ║ └╥┘\n",
       "ancilla_0 -> 3 ─────────────────────────────╫──╫──╫─\n",
       "                                            ║  ║  ║ \n",
       "ancilla_1 -> 4 ─────────────────────────────╫──╫──╫─\n",
       "                                            ║  ║  ║ \n",
       "          c: 3/═════════════════════════════╩══╩══╩═\n",
       "                                            0  1  2 "
      ]
     },
     "execution_count": 19,
     "metadata": {},
     "output_type": "execute_result"
    }
   ],
   "source": [
    "# Prepare the circuit to run\n",
    "\n",
    "optimized_circuit = transpile(qc, backend)\n",
    "optimized_circuit.draw()"
   ]
  },
  {
   "cell_type": "code",
   "execution_count": 20,
   "id": "b44bccd7-6c8e-4392-b80c-64197f971846",
   "metadata": {},
   "outputs": [
    {
     "name": "stdout",
     "output_type": "stream",
     "text": [
      "{'000': 138, '001': 144, '010': 126, '011': 127, '100': 121, '101': 123, '110': 116, '111': 105}\n"
     ]
    }
   ],
   "source": [
    "# Run the job on the selected backend\n",
    "\n",
    "job = backend.run(optimized_circuit,shots=1000)\n",
    "retrieved_job = backend.retrieve_job(job.job_id())\n",
    "result = retrieved_job.result()\n",
    "print(result.get_counts())"
   ]
  },
  {
   "cell_type": "code",
   "execution_count": null,
   "id": "c8fb2dad-73c7-4387-bcac-3245d645aa3c",
   "metadata": {},
   "outputs": [],
   "source": []
  }
 ],
 "metadata": {
  "kernelspec": {
   "display_name": "Python 3 (ipykernel)",
   "language": "python",
   "name": "python3"
  },
  "language_info": {
   "codemirror_mode": {
    "name": "ipython",
    "version": 3
   },
   "file_extension": ".py",
   "mimetype": "text/x-python",
   "name": "python",
   "nbconvert_exporter": "python",
   "pygments_lexer": "ipython3",
   "version": "3.11.2"
  }
 },
 "nbformat": 4,
 "nbformat_minor": 5
}
