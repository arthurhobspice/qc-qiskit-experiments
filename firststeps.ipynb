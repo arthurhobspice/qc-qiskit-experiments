{
 "cells": [
  {
   "cell_type": "markdown",
   "id": "345914f2-0c9c-4947-b706-e05970c282da",
   "metadata": {
    "tags": []
   },
   "source": [
    "# A simple quantum circuit simulation\n"
   ]
  },
  {
   "cell_type": "markdown",
   "id": "f7a6e982",
   "metadata": {},
   "source": [
    "Create a quantum circuit with 3 qubits and 3 classical bits:"
   ]
  },
  {
   "cell_type": "code",
   "execution_count": 1,
   "id": "a18e1719-080d-4ab7-9fa9-7e57be4583d2",
   "metadata": {},
   "outputs": [
    {
     "data": {
      "text/html": [
       "<pre style=\"word-wrap: normal;white-space: pre;background: #fff0;line-height: 1.1;font-family: &quot;Courier New&quot;,Courier,monospace\">     ┌─┐      \n",
       "q_0: ┤M├──────\n",
       "     └╥┘┌─┐   \n",
       "q_1: ─╫─┤M├───\n",
       "      ║ └╥┘┌─┐\n",
       "q_2: ─╫──╫─┤M├\n",
       "      ║  ║ └╥┘\n",
       "c: 3/═╩══╩══╩═\n",
       "      0  1  2 </pre>"
      ],
      "text/plain": [
       "     ┌─┐      \n",
       "q_0: ┤M├──────\n",
       "     └╥┘┌─┐   \n",
       "q_1: ─╫─┤M├───\n",
       "      ║ └╥┘┌─┐\n",
       "q_2: ─╫──╫─┤M├\n",
       "      ║  ║ └╥┘\n",
       "c: 3/═╩══╩══╩═\n",
       "      0  1  2 "
      ]
     },
     "execution_count": 1,
     "metadata": {},
     "output_type": "execute_result"
    }
   ],
   "source": [
    "from qiskit import QuantumCircuit\n",
    "\n",
    "qc = QuantumCircuit(3, 3)\n",
    "# measure qubits 0, 1 & 2 to classical bits 0, 1 & 2, respectively\n",
    "qc.measure([0,1,2], [0,1,2])\n",
    "qc.draw()"
   ]
  },
  {
   "cell_type": "markdown",
   "id": "ff87ae63-a38f-47c7-8b96-6f1d3f32ee0d",
   "metadata": {},
   "source": [
    "The quantum circuit includes the definition of the measurement and the storing of the measurement results in the classical bits.\n",
    "\n",
    "Import Qiskit's simulator Aer and create new simulator object:"
   ]
  },
  {
   "cell_type": "code",
   "execution_count": 2,
   "id": "e6963e19-3d8a-413f-bde5-77966499f5a8",
   "metadata": {},
   "outputs": [],
   "source": [
    "from qiskit.providers.aer import AerSimulator\n",
    "sim = AerSimulator()  # make new simulator object"
   ]
  },
  {
   "cell_type": "markdown",
   "id": "9ff4dd15-4499-458a-940f-5570e8511648",
   "metadata": {},
   "source": [
    "Run the simulation:"
   ]
  },
  {
   "cell_type": "code",
   "execution_count": 3,
   "id": "13128a40-8ed2-4af7-aee6-f88bf2a99f5b",
   "metadata": {},
   "outputs": [
    {
     "data": {
      "text/plain": [
       "{'000': 1024}"
      ]
     },
     "execution_count": 3,
     "metadata": {},
     "output_type": "execute_result"
    }
   ],
   "source": [
    "job = sim.run(qc)      # run the experiment\n",
    "result = job.result()  # get the results\n",
    "result.get_counts()    # interpret the results as a \"counts\" dictionary"
   ]
  },
  {
   "cell_type": "markdown",
   "id": "c68abd85-91eb-4fe4-9363-a35367958596",
   "metadata": {},
   "source": [
    "Key is a bit string, and value is the number of times this bit string was measured. Since qubits are always initialized with 0,\n",
    "and we do nothing to them, we will always get '000'.\n",
    "\n",
    "Add X gates to some of the qubits, an X gate corresponds to a classical NOT gate:"
   ]
  },
  {
   "cell_type": "code",
   "execution_count": 4,
   "id": "f2b5db44-2b6b-4975-9df0-a864b9f78bcb",
   "metadata": {},
   "outputs": [
    {
     "data": {
      "text/html": [
       "<pre style=\"word-wrap: normal;white-space: pre;background: #fff0;line-height: 1.1;font-family: &quot;Courier New&quot;,Courier,monospace\">          ┌─┐      \n",
       "q_0: ─────┤M├──────\n",
       "     ┌───┐└╥┘   ┌─┐\n",
       "q_1: ┤ X ├─╫────┤M├\n",
       "     └┬─┬┘ ║    └╥┘\n",
       "q_2: ─┤M├──╫─────╫─\n",
       "      └╥┘  ║ ┌─┐ ║ \n",
       "q_3: ──╫───╫─┤M├─╫─\n",
       "       ║   ║ └╥┘ ║ \n",
       "c: 4/══╩═══╩══╩══╩═\n",
       "       2   0  3  1 </pre>"
      ],
      "text/plain": [
       "          ┌─┐      \n",
       "q_0: ─────┤M├──────\n",
       "     ┌───┐└╥┘   ┌─┐\n",
       "q_1: ┤ X ├─╫────┤M├\n",
       "     └┬─┬┘ ║    └╥┘\n",
       "q_2: ─┤M├──╫─────╫─\n",
       "      └╥┘  ║ ┌─┐ ║ \n",
       "q_3: ──╫───╫─┤M├─╫─\n",
       "       ║   ║ └╥┘ ║ \n",
       "c: 4/══╩═══╩══╩══╩═\n",
       "       2   0  3  1 "
      ]
     },
     "execution_count": 4,
     "metadata": {},
     "output_type": "execute_result"
    }
   ],
   "source": [
    "qc = QuantumCircuit(4, 4)\n",
    "qc.x([1])  # Perform X-gates on specified qubits\n",
    "qc.measure([0,1,2,3], [0,1,2,3])\n",
    "qc.draw()"
   ]
  },
  {
   "cell_type": "code",
   "execution_count": 5,
   "id": "2365b4ff-c309-489c-87dd-4f45425be6ee",
   "metadata": {},
   "outputs": [
    {
     "data": {
      "text/plain": [
       "{'0010': 1024}"
      ]
     },
     "execution_count": 5,
     "metadata": {},
     "output_type": "execute_result"
    }
   ],
   "source": [
    "job = sim.run(qc)\n",
    "result = job.result()\n",
    "result.get_counts()"
   ]
  },
  {
   "cell_type": "markdown",
   "id": "65aabcc7-69a2-4a25-8b8d-ae0e27eee590",
   "metadata": {},
   "source": [
    "Note that the results in the bit string are positioned from right (0) to left."
   ]
  },
  {
   "cell_type": "markdown",
   "id": "690c94d1",
   "metadata": {},
   "source": [
    "# Half and full adder"
   ]
  },
  {
   "cell_type": "markdown",
   "id": "777f4ffd",
   "metadata": {},
   "source": [
    "Start with the half adder first:"
   ]
  },
  {
   "cell_type": "code",
   "execution_count": 6,
   "id": "1b5e2efc-9344-47cd-aa3d-a3d615490e22",
   "metadata": {},
   "outputs": [
    {
     "data": {
      "text/html": [
       "<pre style=\"word-wrap: normal;white-space: pre;background: #fff0;line-height: 1.1;font-family: &quot;Courier New&quot;,Courier,monospace\">     ┌───┐     ┌─┐   \n",
       "q_0: ┤ X ├──■──┤M├───\n",
       "     ├───┤┌─┴─┐└╥┘┌─┐\n",
       "q_1: ┤ X ├┤ X ├─╫─┤M├\n",
       "     └───┘└───┘ ║ └╥┘\n",
       "c: 2/═══════════╩══╩═\n",
       "                0  1 </pre>"
      ],
      "text/plain": [
       "     ┌───┐     ┌─┐   \n",
       "q_0: ┤ X ├──■──┤M├───\n",
       "     ├───┤┌─┴─┐└╥┘┌─┐\n",
       "q_1: ┤ X ├┤ X ├─╫─┤M├\n",
       "     └───┘└───┘ ║ └╥┘\n",
       "c: 2/═══════════╩══╩═\n",
       "                0  1 "
      ]
     },
     "metadata": {},
     "output_type": "display_data"
    },
    {
     "name": "stdout",
     "output_type": "stream",
     "text": [
      "Result:  {'01': 1024}\n"
     ]
    }
   ],
   "source": [
    "from qiskit import QuantumCircuit\n",
    "\n",
    "qc = QuantumCircuit(2, 2)\n",
    "# Encode an input\n",
    "qc.x(0)\n",
    "qc.x(1)\n",
    "\n",
    "# Apply \"XOR\" operation on qubits 0 and 1\n",
    "qc.cx(0,1)  # CNOT controlled by qubit 0 and targeting qubit 1\n",
    "qc.measure([0,1], [0,1])\n",
    "display(qc.draw())\n",
    "\n",
    "job = sim.run(qc)\n",
    "result = job.result()\n",
    "print(\"Result: \", result.get_counts())"
   ]
  },
  {
   "cell_type": "markdown",
   "id": "d7daeb3f-cb5c-4779-9277-3f1d1d07a4ce",
   "metadata": {},
   "source": [
    "The cx method applied to qc will overwrite qubit 1 with the result of the half-addition.\n",
    "\n",
    "0+0 = 0, 1+0 = 0+1 = 1, 1+1 = 0\n",
    "\n",
    "Full adder:"
   ]
  },
  {
   "cell_type": "code",
   "execution_count": 7,
   "id": "cb3e3ecf-7061-45bb-8366-51c488ca417b",
   "metadata": {},
   "outputs": [
    {
     "data": {
      "text/html": [
       "<pre style=\"word-wrap: normal;white-space: pre;background: #fff0;line-height: 1.1;font-family: &quot;Courier New&quot;,Courier,monospace\">     ┌───┐                     \n",
       "q_0: ┤ X ├──■─────────■────────\n",
       "     ├───┤  │         │        \n",
       "q_1: ┤ X ├──┼────■────■────────\n",
       "     └───┘┌─┴─┐┌─┴─┐  │  ┌─┐   \n",
       "q_2: ─────┤ X ├┤ X ├──┼──┤M├───\n",
       "          └───┘└───┘┌─┴─┐└╥┘┌─┐\n",
       "q_3: ───────────────┤ X ├─╫─┤M├\n",
       "                    └───┘ ║ └╥┘\n",
       "c: 2/═════════════════════╩══╩═\n",
       "                          0  1 </pre>"
      ],
      "text/plain": [
       "     ┌───┐                     \n",
       "q_0: ┤ X ├──■─────────■────────\n",
       "     ├───┤  │         │        \n",
       "q_1: ┤ X ├──┼────■────■────────\n",
       "     └───┘┌─┴─┐┌─┴─┐  │  ┌─┐   \n",
       "q_2: ─────┤ X ├┤ X ├──┼──┤M├───\n",
       "          └───┘└───┘┌─┴─┐└╥┘┌─┐\n",
       "q_3: ───────────────┤ X ├─╫─┤M├\n",
       "                    └───┘ ║ └╥┘\n",
       "c: 2/═════════════════════╩══╩═\n",
       "                          0  1 "
      ]
     },
     "execution_count": 7,
     "metadata": {},
     "output_type": "execute_result"
    }
   ],
   "source": [
    "qc = QuantumCircuit(4, 2)\n",
    "\n",
    "# Encode an input\n",
    "qc.x(0)\n",
    "qc.x(1)\n",
    "\n",
    "# Carry out the adder circuit\n",
    "qc.cx(0,2) # input 0 => output (qubit 2) 0, input 1 => output 1 (target flipped if control is 1)\n",
    "qc.cx(1,2) # input 0 => qubit 2 remains unchanged (result of first computation), input 1 => qubit 2 flipped (again)\n",
    "# At this point qubit 2 holds the result of the half-addition of qubits 0 and 1.\n",
    "\n",
    "# Add a second gate to calculate the carryover:\n",
    "qc.ccx(0,1,3)\n",
    "\n",
    "# Measure two qubits 2 and 3 to extract the output\n",
    "qc.measure(2,0)\n",
    "qc.measure(3,1)\n",
    "qc.draw()"
   ]
  },
  {
   "cell_type": "code",
   "execution_count": 8,
   "id": "4b003e38-67f8-4fa8-a067-221bc595e859",
   "metadata": {},
   "outputs": [
    {
     "name": "stdout",
     "output_type": "stream",
     "text": [
      "Result:  {'10': 1024}\n"
     ]
    }
   ],
   "source": [
    "job = sim.run(qc)\n",
    "result = job.result()\n",
    "print(\"Result: \", result.get_counts())"
   ]
  },
  {
   "cell_type": "markdown",
   "id": "7ec9b795-8f6b-4406-afea-6a51ef169668",
   "metadata": {},
   "source": [
    "ccx is the CCNOT or <b>Toffoli</b> gate: target qubit inverted only if both control qubits are 1.\n",
    "\n",
    "In all examples so far the quantum circuits corresponded to classical circuits. Now we look at the real quantum stuff."
   ]
  },
  {
   "cell_type": "markdown",
   "id": "f46ed561",
   "metadata": {},
   "source": [
    "# Quantum gates and state vectors"
   ]
  },
  {
   "cell_type": "code",
   "execution_count": 9,
   "id": "cf92f206-4f05-4a19-9479-0fac2ec69f8d",
   "metadata": {},
   "outputs": [
    {
     "data": {
      "text/plain": [
       "'Statevector([1.+0.j, 0.+0.j, 0.+0.j, 0.+0.j],\\n            dims=(2, 2))'"
      ]
     },
     "execution_count": 9,
     "metadata": {},
     "output_type": "execute_result"
    }
   ],
   "source": [
    "from qiskit import QuantumCircuit\n",
    "from qiskit.quantum_info import Statevector\n",
    "\n",
    "qc = QuantumCircuit(2)\n",
    "\n",
    "# This calculates what the state vector of our qubits would be\n",
    "# after passing through the circuit 'qc'\n",
    "ket = Statevector(qc)\n",
    "\n",
    "# Write down the state vector\n",
    "ket.draw()"
   ]
  },
  {
   "cell_type": "markdown",
   "id": "748a604e-de0b-4445-9974-b42090d42a1c",
   "metadata": {},
   "source": [
    "The state vector is the list of amplitudes of |00>, |01>, |10> and |11>. A state vector for a QC with $n$ qubits has $2^n$ components (complex amplitudes). Note that the Qiskit convention is to order qubits from right to left, i.e. |01> = (0,1,0,0) means that qubit 0 is in 1 state (|1>) and qubit 1 is in 0 state (|0>).\n",
    "\n",
    "Now let Hadamard transformation work on qubit 1:"
   ]
  },
  {
   "cell_type": "code",
   "execution_count": 10,
   "id": "7c62b3be-2e53-4530-8502-574287f786ed",
   "metadata": {},
   "outputs": [
    {
     "data": {
      "text/plain": [
       "'Statevector([0.70710678+0.j, 0.        +0.j, 0.70710678+0.j,\\n             0.        +0.j],\\n            dims=(2, 2))'"
      ]
     },
     "execution_count": 10,
     "metadata": {},
     "output_type": "execute_result"
    }
   ],
   "source": [
    "qc.h(1)\n",
    "\n",
    "ket = Statevector(qc)\n",
    "ket.draw()"
   ]
  },
  {
   "cell_type": "markdown",
   "id": "46f639ac-7599-4600-939d-5c33001e34a7",
   "metadata": {},
   "source": [
    "ket is now a superposition of |00> and |10>. We let the CNOT gate (cx) act on QC, with qubit 1 being the control (which is a superposition now) and qubit 0 the target qubit:"
   ]
  },
  {
   "cell_type": "code",
   "execution_count": 11,
   "id": "8500d881-0041-487e-a884-47a86fa99a60",
   "metadata": {},
   "outputs": [
    {
     "data": {
      "text/plain": [
       "'Statevector([0.70710678+0.j, 0.        +0.j, 0.        +0.j,\\n             0.70710678+0.j],\\n            dims=(2, 2))'"
      ]
     },
     "execution_count": 11,
     "metadata": {},
     "output_type": "execute_result"
    }
   ],
   "source": [
    "qc.cx(1,0)\n",
    "\n",
    "ket = Statevector(qc)\n",
    "ket.draw()"
   ]
  },
  {
   "cell_type": "markdown",
   "id": "f83d0df7-da91-4a2a-800f-620f87b330f4",
   "metadata": {},
   "source": [
    "This is an entangled state, i.e. it is not a product of two single qubits with two amplitudes: $$\\frac{1}{\\sqrt{2}} |00\\rangle+\\frac{1}{\\sqrt{2}} |11\\rangle$$\n",
    "\n",
    "Disentangling can be done by applying the same operations in reverse order:"
   ]
  },
  {
   "cell_type": "code",
   "execution_count": 12,
   "id": "235c4dca-d8fd-43eb-a485-e51d968ea1c0",
   "metadata": {},
   "outputs": [
    {
     "data": {
      "text/plain": [
       "'Statevector([ 1.00000000e+00+0.j,  0.00000000e+00+0.j, -2.23711432e-17+0.j,\\n              0.00000000e+00+0.j],\\n            dims=(2, 2))'"
      ]
     },
     "execution_count": 12,
     "metadata": {},
     "output_type": "execute_result"
    }
   ],
   "source": [
    "qc.cx(1,0)\n",
    "qc.h(1)\n",
    "\n",
    "ket = Statevector(qc)\n",
    "ket.draw()"
   ]
  },
  {
   "cell_type": "markdown",
   "id": "56574125",
   "metadata": {},
   "source": [
    "# Simple message transmission using entangled state"
   ]
  },
  {
   "cell_type": "markdown",
   "id": "8999733c",
   "metadata": {},
   "source": [
    "Alice can encode a two-bit message by manipulating only one qubit in an entangled state: apply an X (NOT) or Z (phase flip) gate on that qubit depending on the message bits. Qubit 0 could be already transferred even before the message is known!"
   ]
  },
  {
   "cell_type": "code",
   "execution_count": 13,
   "id": "3f8b22ec",
   "metadata": {},
   "outputs": [
    {
     "data": {
      "text/html": [
       "<pre style=\"word-wrap: normal;white-space: pre;background: #fff0;line-height: 1.1;font-family: &quot;Courier New&quot;,Courier,monospace\">          ┌───┐┌───┐     ┌─┐   \n",
       "q_0: ─────┤ X ├┤ X ├─────┤M├───\n",
       "     ┌───┐└─┬─┘└─┬─┘┌───┐└╥┘┌─┐\n",
       "q_1: ┤ H ├──■────■──┤ H ├─╫─┤M├\n",
       "     └───┘          └───┘ ║ └╥┘\n",
       "c: 2/═════════════════════╩══╩═\n",
       "                          0  1 </pre>"
      ],
      "text/plain": [
       "          ┌───┐┌───┐     ┌─┐   \n",
       "q_0: ─────┤ X ├┤ X ├─────┤M├───\n",
       "     ┌───┐└─┬─┘└─┬─┘┌───┐└╥┘┌─┐\n",
       "q_1: ┤ H ├──■────■──┤ H ├─╫─┤M├\n",
       "     └───┘          └───┘ ║ └╥┘\n",
       "c: 2/═════════════════════╩══╩═\n",
       "                          0  1 "
      ]
     },
     "execution_count": 13,
     "metadata": {},
     "output_type": "execute_result"
    }
   ],
   "source": [
    "from qiskit import QuantumCircuit\n",
    "from qiskit.providers.aer import AerSimulator\n",
    "\n",
    "MESSAGE = '00'\n",
    "\n",
    "qc = QuantumCircuit(2,2)\n",
    "\n",
    "# Create an entangled pair (Bell state)\n",
    "qc.h(1)\n",
    "qc.cx(1,0)\n",
    "\n",
    "# Encode the message -> Alice\n",
    "if MESSAGE[0]=='1':\n",
    "    qc.z(1)\n",
    "if MESSAGE[1]=='1':\n",
    "    qc.x(1)\n",
    "\n",
    "# Disentangle the state\n",
    "qc.cx(1,0)\n",
    "qc.h(1)\n",
    "\n",
    "# and measure -> Bob\n",
    "qc.measure([0,1],[0,1])\n",
    "\n",
    "qc.draw()"
   ]
  },
  {
   "cell_type": "markdown",
   "id": "db002e6b",
   "metadata": {},
   "source": [
    "Note that the quantum circuits including its gates depend on the message contents. (How will that work in practice?)"
   ]
  },
  {
   "cell_type": "code",
   "execution_count": 14,
   "id": "72d949d1",
   "metadata": {},
   "outputs": [
    {
     "name": "stdout",
     "output_type": "stream",
     "text": [
      "Result:  {'00': 1024}\n"
     ]
    }
   ],
   "source": [
    "result = AerSimulator().run(qc).result().get_counts()\n",
    "print(\"Result: \", result)"
   ]
  },
  {
   "cell_type": "markdown",
   "id": "7c2a27d3",
   "metadata": {},
   "source": [
    "Measurements are used to get information out of qubits. Different properties of the qubits can be determined by applying different measurements.\n",
    "\n",
    "The pure state of a single qubit corresponds to a point on the Bloch sphere.\n",
    "\n",
    "A z measurement, the standard measurement, measures the qubit orientation with respect to the z axis, hence it returns 0 for a |0> (\"north pole\" of the Bloch sphere) and 1 for a |1> qubit (\"south pole\"). The x measurement does the same with respect to the x axis: rotate the qubit and apply a standard measurement."
   ]
  },
  {
   "cell_type": "markdown",
   "id": "0524550c",
   "metadata": {},
   "source": [
    "# Measurements and rotations"
   ]
  },
  {
   "cell_type": "code",
   "execution_count": 15,
   "id": "229ea07c",
   "metadata": {},
   "outputs": [
    {
     "name": "stdout",
     "output_type": "stream",
     "text": [
      "Result of z measurement:  {'0': 1024}\n",
      "Result of x measurement:  {'0': 516, '1': 508}\n",
      "Result of z measurement:  {'0': 525, '1': 499}\n",
      "Result of x measurement:  {'1': 1024}\n",
      "Result of z measurement:  {'1': 135, '0': 889}\n",
      "Result of x measurement:  {'1': 167, '0': 857}\n"
     ]
    }
   ],
   "source": [
    "from qiskit import QuantumCircuit\n",
    "from qiskit.providers.aer import AerSimulator\n",
    "from math import pi\n",
    "\n",
    "def do_measurement(qc):\n",
    "    m_z = QuantumCircuit(1,1)\n",
    "    m_z.measure(0,0)\n",
    "\n",
    "    m_x = QuantumCircuit(1,1)\n",
    "    m_x.h(0)\n",
    "    m_x.measure(0,0)\n",
    "\n",
    "    for axis_label, axis_m in [('z',m_z),('x',m_x)]:\n",
    "        result = AerSimulator().run(qc.compose(axis_m)).result().get_counts()\n",
    "        print(\"Result of \" + axis_label + ' measurement: ', result)\n",
    "\n",
    "# qubit initialized with default properties is a |0>\n",
    "qc = QuantumCircuit(1,1)\n",
    "\n",
    "do_measurement(qc)\n",
    "\n",
    "# Phase flip and Hadamard = rotation by pi around x + z bisecting line\n",
    "# Thus we feed a |-> into the measurement\n",
    "qc.x(0)\n",
    "qc.h(0)\n",
    "\n",
    "do_measurement(qc)\n",
    "\n",
    "# Rotate back\n",
    "qc.h(0)\n",
    "qc.x(0)\n",
    "\n",
    "# and rotate by some angle around y axis\n",
    "qc.ry(pi/4,0)\n",
    "\n",
    "do_measurement(qc)"
   ]
  },
  {
   "cell_type": "markdown",
   "id": "b025b214",
   "metadata": {},
   "source": [
    "<b>Heisenberg uncertainty principle</b>: you cannot measure these two properties with certainty at the same time.\n",
    "\n",
    "The compose method combines two quantum circuits by connecting (\"wiring\") them one after another.\n",
    "\n",
    "<b>A measurement destroys a superposition.</b> If we apply a measurement to a superposition of |00> and |11>, with some probability we will measure either 00 or 11. After a measurement of 00 the quantum system will definitely be in state |00> (collapsed), similarly for 11 and |11>. Hence a second measurement will always yield the same result as the first one. We will never get 0011 or 1100."
   ]
  },
  {
   "cell_type": "code",
   "execution_count": 16,
   "id": "ec3ea7d7",
   "metadata": {},
   "outputs": [
    {
     "name": "stdout",
     "output_type": "stream",
     "text": [
      "{'1111': 53, '0000': 47}\n"
     ]
    }
   ],
   "source": [
    "from qiskit import QuantumCircuit\n",
    "from qiskit.providers.aer import AerSimulator\n",
    "\n",
    "qc = QuantumCircuit(2,4)\n",
    "qc.h(1)\n",
    "qc.cx(1,0)\n",
    "\n",
    "qc.measure([0,1],[0,1]) # measure QC and record result in classical bits 0 and 1\n",
    "qc.measure([0,1],[2,3]) # measure the same QC again and record in bits 2 and 3\n",
    "\n",
    "result = AerSimulator().run(qc,shots=100).result().get_counts()\n",
    "print(result)"
   ]
  },
  {
   "cell_type": "markdown",
   "id": "328fff66",
   "metadata": {},
   "source": [
    "# A logical paradox"
   ]
  },
  {
   "cell_type": "markdown",
   "id": "2c95696c",
   "metadata": {},
   "source": [
    "This is a variation of [Hardy's paradox](https://en.wikipedia.org/wiki/Hardy%27s_paradox). Suppose we create an entangled state and send each of the two qubits to different observers (Alice and Bob). Both apply a z measurement:"
   ]
  },
  {
   "cell_type": "code",
   "execution_count": 17,
   "id": "cf705db7",
   "metadata": {
    "scrolled": true
   },
   "outputs": [
    {
     "name": "stdout",
     "output_type": "stream",
     "text": [
      "Results for z measurements:\n"
     ]
    },
    {
     "data": {
      "image/png": "[encoded data removed]",
      "text/plain": [
       "<Figure size 504x360 with 1 Axes>"
      ]
     },
     "execution_count": 17,
     "metadata": {},
     "output_type": "execute_result"
    }
   ],
   "source": [
    "from qiskit import QuantumCircuit, transpile\n",
    "from qiskit.providers.aer import QasmSimulator\n",
    "from qiskit.visualization import plot_histogram\n",
    "\n",
    "qc = QuantumCircuit(2,2)\n",
    "qc.ry(1.911,1)\n",
    "qc.cx(1,0)\n",
    "qc.ry(0.785,0)\n",
    "qc.cx(1,0)\n",
    "qc.ry(2.356,0)\n",
    "\n",
    "m_zz = QuantumCircuit(2,2)\n",
    "m_zz.measure([0,1],[0,1])\n",
    "\n",
    "# Our \"backend\" is the simulator\n",
    "backend = QasmSimulator()\n",
    "\n",
    "# compile the circuit down to low-level QASM instructions\n",
    "# supported by the backend (not needed for simple circuits)\n",
    "#\n",
    "# We need to feed qc.compose into here because the compose method does\n",
    "# not change qc to the composed circuit! I.e. this:\n",
    "# qc.compose(m_zz)\n",
    "# qc_compiled = transpile(qc,backend)\n",
    "# leads to \"no counts for experiment\" error due to missing measurements.\n",
    "qc_compiled = transpile(qc.compose(m_zz), backend)\n",
    "\n",
    "# Execute the circuit on the qasm simulator\n",
    "print('Results for z measurements:')\n",
    "counts = backend.run(qc_compiled, shots=1000).result().get_counts(qc_compiled)\n",
    "plot_histogram(counts)"
   ]
  },
  {
   "cell_type": "markdown",
   "id": "665576b2",
   "metadata": {},
   "source": [
    "In this case, the result 00 is never observed. Now let's look at what happens when one of the observers performs a z and the other an x measurement:"
   ]
  },
  {
   "cell_type": "code",
   "execution_count": 18,
   "id": "b2b97c87",
   "metadata": {},
   "outputs": [
    {
     "name": "stdout",
     "output_type": "stream",
     "text": [
      "Results for z and x measurement:\n"
     ]
    },
    {
     "data": {
      "image/png": "[encoded data removed]",
      "text/plain": [
       "<Figure size 504x360 with 1 Axes>"
      ]
     },
     "execution_count": 18,
     "metadata": {},
     "output_type": "execute_result"
    }
   ],
   "source": [
    "m_zx = QuantumCircuit(2,2)\n",
    "m_zx.h(0)\n",
    "m_zx.measure([0,1],[0,1])\n",
    "\n",
    "qc_compiled = transpile(qc.compose(m_zx), backend)\n",
    "\n",
    "print('Results for z and x measurement:')\n",
    "counts = backend.run(qc_compiled, shots=1000).result().get_counts(qc_compiled)\n",
    "plot_histogram(counts)"
   ]
  },
  {
   "cell_type": "code",
   "execution_count": 19,
   "id": "f9324a9d",
   "metadata": {},
   "outputs": [
    {
     "name": "stdout",
     "output_type": "stream",
     "text": [
      "Results for x and z measurement:\n"
     ]
    },
    {
     "data": {
      "image/png": "[encoded data removed]",
      "text/plain": [
       "<Figure size 504x360 with 1 Axes>"
      ]
     },
     "execution_count": 19,
     "metadata": {},
     "output_type": "execute_result"
    }
   ],
   "source": [
    "m_zx = QuantumCircuit(2,2)\n",
    "m_zx.h(1)\n",
    "m_zx.measure([0,1],[0,1])\n",
    "\n",
    "qc_compiled = transpile(qc.compose(m_zx), backend)\n",
    "\n",
    "print('Results for x and z measurement:')\n",
    "counts = backend.run(qc_compiled, shots=1000).result().get_counts(qc_compiled)\n",
    "plot_histogram(counts)"
   ]
  },
  {
   "cell_type": "markdown",
   "id": "09c75f54",
   "metadata": {},
   "source": [
    "In both cases we never observe 11. What is our expectation now if both observers do an x measurement? In this case a measurement of 1 for both seems impossible. Why? From classical logic we would infer:\n",
    "\n",
    "1. If z measurements are applied on both qubits, they can never both be 0.\n",
    "2. If an x measurement on one qubit yields 1, a z measurement of the other must give 0.\n",
    "\n",
    "If Alice does an x measurement and finds a 1, then from (2) she will conclude that Bob would have measured a 0 if he would have done a z measurement instead. Same for Bob, if he finds a 1 in an x measurement, he says that Alice would surely have got a 0 if she'd done a z measurement. But according to (1) this can never happen, the z measurements for the qubits can't output 0 for both.\n",
    "\n",
    "Check:"
   ]
  },
  {
   "cell_type": "code",
   "execution_count": 20,
   "id": "f51f5107",
   "metadata": {},
   "outputs": [
    {
     "name": "stdout",
     "output_type": "stream",
     "text": [
      "Results for x measurements:\n"
     ]
    },
    {
     "data": {
      "image/png": "[encoded data removed]",
      "text/plain": [
       "<Figure size 504x360 with 1 Axes>"
      ]
     },
     "execution_count": 20,
     "metadata": {},
     "output_type": "execute_result"
    }
   ],
   "source": [
    "m_xx = QuantumCircuit(2,2)\n",
    "m_xx.h(0)\n",
    "m_xx.h(1)\n",
    "m_xx.measure([0,1],[0,1])\n",
    "\n",
    "qc_compiled = transpile(qc.compose(m_xx), backend)\n",
    "\n",
    "print('Results for x measurements:')\n",
    "counts = backend.run(qc_compiled, shots=1000).result().get_counts(qc_compiled)\n",
    "plot_histogram(counts)"
   ]
  },
  {
   "cell_type": "markdown",
   "id": "5ee944c1",
   "metadata": {},
   "source": [
    "In fact we find the result 11 with the same probability as 01 and 10 which contradicts our logic."
   ]
  },
  {
   "cell_type": "code",
   "execution_count": null,
   "id": "f23058cc",
   "metadata": {},
   "outputs": [],
   "source": []
  }
 ],
 "metadata": {
  "kernelspec": {
   "display_name": "Python 3 (ipykernel)",
   "language": "python",
   "name": "python3"
  },
  "language_info": {
   "codemirror_mode": {
    "name": "ipython",
    "version": 3
   },
   "file_extension": ".py",
   "mimetype": "text/x-python",
   "name": "python",
   "nbconvert_exporter": "python",
   "pygments_lexer": "ipython3",
   "version": "3.11.2"
  }
 },
 "nbformat": 4,
 "nbformat_minor": 5
}
